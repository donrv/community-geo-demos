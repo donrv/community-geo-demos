{
 "cells": [
  {
   "cell_type": "markdown",
   "metadata": {},
   "source": [
    "### Exploring Yelp Business Point Data in OmniSci"
   ]
  },
  {
   "cell_type": "markdown",
   "metadata": {},
   "source": [
    "Dr. Michael Flaxman, Geodesign Technologies<p>\n",
    "    November 2018"
   ]
  },
  {
   "cell_type": "markdown",
   "metadata": {
    "ExecuteTime": {
     "end_time": "2018-11-15T23:15:43.575316Z",
     "start_time": "2018-11-15T23:15:43.571600Z"
    }
   },
   "source": [
    "<table>\n",
    "    <tr><td>\n",
    "<img src=\"yelp/img/yelp_dataset_challenge_crop.png\" width=300>\n",
    "        </td>\n",
    "        <td>\n",
    "<img src=\"yelp/img/yelp_teaser_shot_vegas.png\" width=280>\n",
    "        </td>\n",
    "    </tr>\n",
    "    </table>"
   ]
  },
  {
   "cell_type": "markdown",
   "metadata": {},
   "source": [
    "### Intro"
   ]
  },
  {
   "cell_type": "markdown",
   "metadata": {},
   "source": [
    "Business point data from traditional sources falls a bit flat - it usually is only a geocoded address point, and often lacks even a reasonable business point classification.  For example, government data typically only groups data by general \"<a href=\"https://www.bls.gov/bls/naics.htm\">NAICs</a>\" codes, which are missing any interesting level of detail."
   ]
  },
  {
   "cell_type": "markdown",
   "metadata": {
    "ExecuteTime": {
     "end_time": "2018-11-15T22:55:11.325609Z",
     "start_time": "2018-11-15T22:55:11.321840Z"
    }
   },
   "source": [
    "Crowd-sourced business data can be much more interesting!  For starters, it is opinionated, including star ratings and reviews.  It also has much finer-grained classifications, allowing drill-down into interesting data subsets. It even has reviews and images."
   ]
  },
  {
   "cell_type": "markdown",
   "metadata": {},
   "source": [
    "Yelp data for 10 metro regions is available in aggregate form as part of the student challenge described here:"
   ]
  },
  {
   "cell_type": "markdown",
   "metadata": {
    "ExecuteTime": {
     "end_time": "2018-11-15T21:52:11.731089Z",
     "start_time": "2018-11-15T21:52:11.727510Z"
    }
   },
   "source": [
    "<a href=\"https://www.yelp.com/dataset\">Yelp Student Challenge Dataset</a>"
   ]
  },
  {
   "cell_type": "markdown",
   "metadata": {},
   "source": [
    "<li><b><i>By the way, if any of you reading this are students - Yelp is offering a very nice cash prize for the best creative use of this data.  So feel free to use our cleaned-up data and visualization techniques below to win this prize!</i></b>"
   ]
  },
  {
   "cell_type": "markdown",
   "metadata": {},
   "source": [
    "The Yelp data are provided as one massive JSON file, which is a kind of huge download (>3G!).  We have used Python Pandas and OmniSci to put the data into an interactive form ready for exploration.  We've also provided public links to analysis-ready data here:"
   ]
  },
  {
   "cell_type": "markdown",
   "metadata": {
    "ExecuteTime": {
     "end_time": "2018-11-15T23:25:55.565553Z",
     "start_time": "2018-11-15T23:25:55.559535Z"
    }
   },
   "source": [
    "<a href=\"https://s3-us-west-1.amazonaws.com/mapd-cloud/DataSets/yelp/yelp_academic_dataset_business_original.json.zip\">Original Yelp Data Subset to Business Points Only (JSON 22.5 Mb)</a><P>\n",
    "<a href=\"https://s3-us-west-1.amazonaws.com/mapd-cloud/DataSets/yelp/yelp_academic_dataset_business_cleaned.csv.zip\">Cleaned flattened CSV file of Yelp Business Points (CSV 13 Mb)</a>"
   ]
  },
  {
   "cell_type": "markdown",
   "metadata": {},
   "source": [
    "#### Understanding the Data"
   ]
  },
  {
   "cell_type": "markdown",
   "metadata": {},
   "source": [
    "Yelp is so widely used that most people already have an intuitive idea of what data are collected.  However, from a data science and visualization perspective, data structure and organization are important.  Yelp data include a set of separate tables for businesses, reviews, check-ins, and photos. In this post, we'll start with the business points data.<P>\n",
    "    The data from the businesses json look like this:"
   ]
  },
  {
   "cell_type": "markdown",
   "metadata": {
    "ExecuteTime": {
     "end_time": "2018-11-16T00:03:25.491454Z",
     "start_time": "2018-11-16T00:03:25.482140Z"
    }
   },
   "source": [
    "   {\n",
    "    // string, 22 character unique string business id\n",
    "    \"business_id\": \"tnhfDv5Il8EaGSXZGiuQGg\",\n",
    "\n",
    "    // string, the business's name\n",
    "    \"name\": \"Garaje\",\n",
    "\n",
    "    // string, the neighborhood's name\n",
    "    \"neighborhood\": \"SoMa\",\n",
    "\n",
    "    // string, the full address of the business\n",
    "    \"address\": \"475 3rd St\",\n",
    "\n",
    "    // string, the city\n",
    "    \"city\": \"San Francisco\",\n",
    "\n",
    "    // string, 2 character state code, if applicable\n",
    "    \"state\": \"CA\",\n",
    "\n",
    "    // string, the postal code\n",
    "    \"postal code\": \"94107\",\n",
    "\n",
    "    // float, latitude\n",
    "    \"latitude\": 37.7817529521,\n",
    "\n",
    "    // float, longitude\n",
    "    \"longitude\": -122.39612197,\n",
    "\n",
    "    // float, star rating, rounded to half-stars\n",
    "    \"stars\": 4.5,\n",
    "\n",
    "    // interger, number of reviews\n",
    "    \"review_count\": 1198,\n",
    "\n",
    "    // integer, 0 or 1 for closed or open, respectively\n",
    "    \"is_open\": 1,\n",
    "\n",
    "    // object, business attributes to values. note: some attribute values might be objects\n",
    "    \"attributes\": {\n",
    "        \"RestaurantsTakeOut\": true,\n",
    "        \"BusinessParking\": {\n",
    "            \"garage\": false,\n",
    "            \"street\": true,\n",
    "            \"validated\": false,\n",
    "            \"lot\": false,\n",
    "            \"valet\": false\n",
    "        },\n",
    "    },\n",
    "\n",
    "    // an array of strings of business categories\n",
    "    \"categories\": [\n",
    "        \"Mexican\",\n",
    "        \"Burgers\",\n",
    "        \"Gastropubs\"\n",
    "    ],\n",
    "\n",
    "    // an object of key day to value hours, hours are using a 24hr clock\n",
    "    \"hours\": {\n",
    "        \"Monday\": \"10:00-21:00\",\n",
    "        \"Tuesday\": \"10:00-21:00\",\n",
    "        \"Friday\": \"10:00-21:00\",\n",
    "        \"Wednesday\": \"10:00-21:00\",\n",
    "        \"Thursday\": \"10:00-21:00\",\n",
    "        \"Sunday\": \"11:00-18:00\",\n",
    "        \"Saturday\": \"10:00-21:00\"\n",
    "    }\n",
    "}`"
   ]
  },
  {
   "cell_type": "markdown",
   "metadata": {},
   "source": [
    "Because we are importing this into a single table and don't need the sub-objects for attributes and hours, we can ignore the complexity of creating related subtables for these."
   ]
  },
  {
   "cell_type": "markdown",
   "metadata": {},
   "source": [
    "### Create a Pandas dataframe"
   ]
  },
  {
   "cell_type": "markdown",
   "metadata": {},
   "source": [
    "If we were dealing with the full Yelp database, we would probably need to read directly into OmniSci and drop out un-needed data there.  The OmniSci JSON reader is very efficient and can handle files larger than main memory.  <p>Since the sample data are 'only' 188k locations, they easily fit in typical machine memory, and we can use the Pandas library to read and manipulate them.  This technique also allows us to create a true \"Point\" field type from separate latitude and longitude columns, which is not currently possible within OmniSci's JSON reader (at version 4.2)."
   ]
  },
  {
   "cell_type": "markdown",
   "metadata": {},
   "source": [
    "Note: the lines=True is necessary since Yelp's business file is line-separated."
   ]
  },
  {
   "cell_type": "code",
   "execution_count": 6,
   "metadata": {
    "ExecuteTime": {
     "end_time": "2018-11-16T00:05:32.131296Z",
     "start_time": "2018-11-16T00:05:28.221629Z"
    }
   },
   "outputs": [],
   "source": [
    "import pandas as pd\n",
    "\n",
    "biz_df = pd.read_json('yelp/yelp_academic_dataset_business.json', lines=True)"
   ]
  },
  {
   "cell_type": "markdown",
   "metadata": {},
   "source": [
    "ok, what have we got?"
   ]
  },
  {
   "cell_type": "code",
   "execution_count": 7,
   "metadata": {
    "ExecuteTime": {
     "end_time": "2018-11-16T00:05:44.112872Z",
     "start_time": "2018-11-16T00:05:44.101185Z"
    }
   },
   "outputs": [
    {
     "data": {
      "text/plain": [
       "(188593, 15)"
      ]
     },
     "execution_count": 7,
     "metadata": {},
     "output_type": "execute_result"
    }
   ],
   "source": [
    "biz_df.shape"
   ]
  },
  {
   "cell_type": "markdown",
   "metadata": {},
   "source": [
    "great, 188k rows and 15 columns... what do they look like?"
   ]
  },
  {
   "cell_type": "code",
   "execution_count": 37,
   "metadata": {
    "ExecuteTime": {
     "end_time": "2018-11-16T00:19:44.059892Z",
     "start_time": "2018-11-16T00:19:44.037188Z"
    }
   },
   "outputs": [
    {
     "data": {
      "text/html": [
       "<div>\n",
       "<style scoped>\n",
       "    .dataframe tbody tr th:only-of-type {\n",
       "        vertical-align: middle;\n",
       "    }\n",
       "\n",
       "    .dataframe tbody tr th {\n",
       "        vertical-align: top;\n",
       "    }\n",
       "\n",
       "    .dataframe thead th {\n",
       "        text-align: right;\n",
       "    }\n",
       "</style>\n",
       "<table border=\"1\" class=\"dataframe\">\n",
       "  <thead>\n",
       "    <tr style=\"text-align: right;\">\n",
       "      <th></th>\n",
       "      <th>address</th>\n",
       "      <th>attributes</th>\n",
       "      <th>business_id</th>\n",
       "      <th>categories</th>\n",
       "      <th>city</th>\n",
       "      <th>hours</th>\n",
       "      <th>is_open</th>\n",
       "      <th>latitude</th>\n",
       "      <th>longitude</th>\n",
       "      <th>name</th>\n",
       "      <th>neighborhood</th>\n",
       "      <th>postal_code</th>\n",
       "      <th>review_count</th>\n",
       "      <th>stars</th>\n",
       "      <th>state</th>\n",
       "    </tr>\n",
       "  </thead>\n",
       "  <tbody>\n",
       "    <tr>\n",
       "      <th>0</th>\n",
       "      <td>1314 44 Avenue NE</td>\n",
       "      <td>{'BikeParking': 'False', 'BusinessAcceptsCredi...</td>\n",
       "      <td>Apn5Q_b6Nz61Tq4XzPdf9A</td>\n",
       "      <td>Tours, Breweries, Pizza, Restaurants, Food, Ho...</td>\n",
       "      <td>Calgary</td>\n",
       "      <td>{'Monday': '8:30-17:0', 'Tuesday': '11:0-21:0'...</td>\n",
       "      <td>1</td>\n",
       "      <td>51.091813</td>\n",
       "      <td>-114.031675</td>\n",
       "      <td>Minhas Micro Brewery</td>\n",
       "      <td></td>\n",
       "      <td>T2E 6L6</td>\n",
       "      <td>24</td>\n",
       "      <td>4.0</td>\n",
       "      <td>AB</td>\n",
       "    </tr>\n",
       "    <tr>\n",
       "      <th>1</th>\n",
       "      <td></td>\n",
       "      <td>{'Alcohol': 'none', 'BikeParking': 'False', 'B...</td>\n",
       "      <td>AjEbIBw6ZFfln7ePHha9PA</td>\n",
       "      <td>Chicken Wings, Burgers, Caterers, Street Vendo...</td>\n",
       "      <td>Henderson</td>\n",
       "      <td>{'Friday': '17:0-23:0', 'Saturday': '17:0-23:0...</td>\n",
       "      <td>0</td>\n",
       "      <td>35.960734</td>\n",
       "      <td>-114.939821</td>\n",
       "      <td>CK'S BBQ &amp; Catering</td>\n",
       "      <td></td>\n",
       "      <td>89002</td>\n",
       "      <td>3</td>\n",
       "      <td>4.5</td>\n",
       "      <td>NV</td>\n",
       "    </tr>\n",
       "    <tr>\n",
       "      <th>2</th>\n",
       "      <td>1335 rue Beaubien E</td>\n",
       "      <td>{'Alcohol': 'beer_and_wine', 'Ambience': '{'ro...</td>\n",
       "      <td>O8S5hYJ1SMc8fA4QBtVujA</td>\n",
       "      <td>Breakfast &amp; Brunch, Restaurants, French, Sandw...</td>\n",
       "      <td>Montréal</td>\n",
       "      <td>{'Monday': '10:0-22:0', 'Tuesday': '10:0-22:0'...</td>\n",
       "      <td>0</td>\n",
       "      <td>45.540503</td>\n",
       "      <td>-73.599300</td>\n",
       "      <td>La Bastringue</td>\n",
       "      <td>Rosemont-La Petite-Patrie</td>\n",
       "      <td>H2G 1K7</td>\n",
       "      <td>5</td>\n",
       "      <td>4.0</td>\n",
       "      <td>QC</td>\n",
       "    </tr>\n",
       "  </tbody>\n",
       "</table>\n",
       "</div>"
      ],
      "text/plain": [
       "               address                                         attributes  \\\n",
       "0    1314 44 Avenue NE  {'BikeParking': 'False', 'BusinessAcceptsCredi...   \n",
       "1                       {'Alcohol': 'none', 'BikeParking': 'False', 'B...   \n",
       "2  1335 rue Beaubien E  {'Alcohol': 'beer_and_wine', 'Ambience': '{'ro...   \n",
       "\n",
       "              business_id                                         categories  \\\n",
       "0  Apn5Q_b6Nz61Tq4XzPdf9A  Tours, Breweries, Pizza, Restaurants, Food, Ho...   \n",
       "1  AjEbIBw6ZFfln7ePHha9PA  Chicken Wings, Burgers, Caterers, Street Vendo...   \n",
       "2  O8S5hYJ1SMc8fA4QBtVujA  Breakfast & Brunch, Restaurants, French, Sandw...   \n",
       "\n",
       "        city                                              hours  is_open  \\\n",
       "0    Calgary  {'Monday': '8:30-17:0', 'Tuesday': '11:0-21:0'...        1   \n",
       "1  Henderson  {'Friday': '17:0-23:0', 'Saturday': '17:0-23:0...        0   \n",
       "2   Montréal  {'Monday': '10:0-22:0', 'Tuesday': '10:0-22:0'...        0   \n",
       "\n",
       "    latitude   longitude                  name               neighborhood  \\\n",
       "0  51.091813 -114.031675  Minhas Micro Brewery                              \n",
       "1  35.960734 -114.939821   CK'S BBQ & Catering                              \n",
       "2  45.540503  -73.599300         La Bastringue  Rosemont-La Petite-Patrie   \n",
       "\n",
       "  postal_code  review_count  stars state  \n",
       "0     T2E 6L6            24    4.0    AB  \n",
       "1       89002             3    4.5    NV  \n",
       "2     H2G 1K7             5    4.0    QC  "
      ]
     },
     "execution_count": 37,
     "metadata": {},
     "output_type": "execute_result"
    }
   ],
   "source": [
    "biz_df.head(3)"
   ]
  },
  {
   "cell_type": "markdown",
   "metadata": {},
   "source": [
    "### Select Out What We Want"
   ]
  },
  {
   "cell_type": "markdown",
   "metadata": {},
   "source": [
    "OK, for our immediate purposes, the nested objects seem like overkill, except for the categories, which are a simple nested list.  Since pandas quote-delimits strings columns by default, it is fine to have a comma-separated list inside a CSV."
   ]
  },
  {
   "cell_type": "code",
   "execution_count": 9,
   "metadata": {
    "ExecuteTime": {
     "end_time": "2018-11-16T00:05:48.495112Z",
     "start_time": "2018-11-16T00:05:48.431751Z"
    }
   },
   "outputs": [],
   "source": [
    "yelp_biz = biz_df[['business_id','name','address','neighborhood','city','postal_code','state','longitude','latitude','categories','review_count','stars']]"
   ]
  },
  {
   "cell_type": "code",
   "execution_count": 36,
   "metadata": {
    "ExecuteTime": {
     "end_time": "2018-11-16T00:15:36.899306Z",
     "start_time": "2018-11-16T00:15:36.882352Z"
    }
   },
   "outputs": [
    {
     "data": {
      "text/html": [
       "<div>\n",
       "<style scoped>\n",
       "    .dataframe tbody tr th:only-of-type {\n",
       "        vertical-align: middle;\n",
       "    }\n",
       "\n",
       "    .dataframe tbody tr th {\n",
       "        vertical-align: top;\n",
       "    }\n",
       "\n",
       "    .dataframe thead th {\n",
       "        text-align: right;\n",
       "    }\n",
       "</style>\n",
       "<table border=\"1\" class=\"dataframe\">\n",
       "  <thead>\n",
       "    <tr style=\"text-align: right;\">\n",
       "      <th></th>\n",
       "      <th>business_id</th>\n",
       "      <th>name</th>\n",
       "      <th>address</th>\n",
       "      <th>neighborhood</th>\n",
       "      <th>city</th>\n",
       "      <th>postal_code</th>\n",
       "      <th>state</th>\n",
       "      <th>longitude</th>\n",
       "      <th>latitude</th>\n",
       "      <th>categories</th>\n",
       "      <th>review_count</th>\n",
       "      <th>stars</th>\n",
       "    </tr>\n",
       "  </thead>\n",
       "  <tbody>\n",
       "    <tr>\n",
       "      <th>0</th>\n",
       "      <td>Apn5Q_b6Nz61Tq4XzPdf9A</td>\n",
       "      <td>Minhas Micro Brewery</td>\n",
       "      <td>1314 44 Avenue NE</td>\n",
       "      <td></td>\n",
       "      <td>Calgary</td>\n",
       "      <td>T2E 6L6</td>\n",
       "      <td>AB</td>\n",
       "      <td>-114.031675</td>\n",
       "      <td>51.091813</td>\n",
       "      <td>Tours, Breweries, Pizza, Restaurants, Food, Ho...</td>\n",
       "      <td>24</td>\n",
       "      <td>4.0</td>\n",
       "    </tr>\n",
       "    <tr>\n",
       "      <th>1</th>\n",
       "      <td>AjEbIBw6ZFfln7ePHha9PA</td>\n",
       "      <td>CK'S BBQ &amp; Catering</td>\n",
       "      <td></td>\n",
       "      <td></td>\n",
       "      <td>Henderson</td>\n",
       "      <td>89002</td>\n",
       "      <td>NV</td>\n",
       "      <td>-114.939821</td>\n",
       "      <td>35.960734</td>\n",
       "      <td>Chicken Wings, Burgers, Caterers, Street Vendo...</td>\n",
       "      <td>3</td>\n",
       "      <td>4.5</td>\n",
       "    </tr>\n",
       "    <tr>\n",
       "      <th>2</th>\n",
       "      <td>O8S5hYJ1SMc8fA4QBtVujA</td>\n",
       "      <td>La Bastringue</td>\n",
       "      <td>1335 rue Beaubien E</td>\n",
       "      <td>Rosemont-La Petite-Patrie</td>\n",
       "      <td>Montréal</td>\n",
       "      <td>H2G 1K7</td>\n",
       "      <td>QC</td>\n",
       "      <td>-73.599300</td>\n",
       "      <td>45.540503</td>\n",
       "      <td>Breakfast &amp; Brunch, Restaurants, French, Sandw...</td>\n",
       "      <td>5</td>\n",
       "      <td>4.0</td>\n",
       "    </tr>\n",
       "  </tbody>\n",
       "</table>\n",
       "</div>"
      ],
      "text/plain": [
       "              business_id                  name              address  \\\n",
       "0  Apn5Q_b6Nz61Tq4XzPdf9A  Minhas Micro Brewery    1314 44 Avenue NE   \n",
       "1  AjEbIBw6ZFfln7ePHha9PA   CK'S BBQ & Catering                        \n",
       "2  O8S5hYJ1SMc8fA4QBtVujA         La Bastringue  1335 rue Beaubien E   \n",
       "\n",
       "                neighborhood       city postal_code state   longitude  \\\n",
       "0                               Calgary     T2E 6L6    AB -114.031675   \n",
       "1                             Henderson       89002    NV -114.939821   \n",
       "2  Rosemont-La Petite-Patrie   Montréal     H2G 1K7    QC  -73.599300   \n",
       "\n",
       "    latitude                                         categories  review_count  \\\n",
       "0  51.091813  Tours, Breweries, Pizza, Restaurants, Food, Ho...            24   \n",
       "1  35.960734  Chicken Wings, Burgers, Caterers, Street Vendo...             3   \n",
       "2  45.540503  Breakfast & Brunch, Restaurants, French, Sandw...             5   \n",
       "\n",
       "   stars  \n",
       "0    4.0  \n",
       "1    4.5  \n",
       "2    4.0  "
      ]
     },
     "execution_count": 36,
     "metadata": {},
     "output_type": "execute_result"
    }
   ],
   "source": [
    "yelp_biz.head(3)"
   ]
  },
  {
   "cell_type": "markdown",
   "metadata": {},
   "source": [
    "### Export out clean table as CSV"
   ]
  },
  {
   "cell_type": "markdown",
   "metadata": {},
   "source": [
    "Now that we have a Pandas dataframe with only the information required, it is easy to dump this out into a CSV (creating the same file as shown above).  "
   ]
  },
  {
   "cell_type": "code",
   "execution_count": 11,
   "metadata": {
    "ExecuteTime": {
     "end_time": "2018-11-16T00:05:59.762908Z",
     "start_time": "2018-11-16T00:05:57.801111Z"
    }
   },
   "outputs": [],
   "source": [
    "of = 'yelp/yelp_biz_2018.csv'\n",
    "yelp_biz.to_csv(of, index=False)"
   ]
  },
  {
   "cell_type": "code",
   "execution_count": 12,
   "metadata": {
    "ExecuteTime": {
     "end_time": "2018-11-16T00:06:02.644669Z",
     "start_time": "2018-11-16T00:06:02.511260Z"
    }
   },
   "outputs": [
    {
     "name": "stdout",
     "output_type": "stream",
     "text": [
      "-rw-rw-r-- 1 mapdadmin mapdadmin 32859164 Nov 16 00:05 yelp/yelp_biz_2018.csv\r\n"
     ]
    }
   ],
   "source": [
    "!ls -l yelp/yelp_biz_2018.csv"
   ]
  },
  {
   "cell_type": "markdown",
   "metadata": {},
   "source": [
    "### Set Up Import in OmniSci"
   ]
  },
  {
   "cell_type": "markdown",
   "metadata": {
    "ExecuteTime": {
     "end_time": "2018-11-15T22:19:56.016258Z",
     "start_time": "2018-11-15T22:19:56.011616Z"
    }
   },
   "source": [
    "We could do this in a fully-automated way using pymapd's load_table method, which accepts a pandas dataframe.  However, since that doesn't support \"geo\" features, and the number of columns is reasonably small, let's just hand-craft a nice efficient data definition."
   ]
  },
  {
   "cell_type": "markdown",
   "metadata": {},
   "source": [
    "#### OmniSci Utilities"
   ]
  },
  {
   "cell_type": "code",
   "execution_count": 13,
   "metadata": {
    "ExecuteTime": {
     "end_time": "2018-11-16T00:06:07.405325Z",
     "start_time": "2018-11-16T00:06:07.051641Z"
    }
   },
   "outputs": [
    {
     "name": "stdout",
     "output_type": "stream",
     "text": [
      "0.5.2.dev1+ga0feb21.d20181113\n"
     ]
    }
   ],
   "source": [
    "import pymapd\n",
    "import sys\n",
    "print(pymapd.__version__)\n",
    "import sys, traceback"
   ]
  },
  {
   "cell_type": "code",
   "execution_count": 14,
   "metadata": {
    "ExecuteTime": {
     "end_time": "2018-11-16T00:06:09.026301Z",
     "start_time": "2018-11-16T00:06:08.782366Z"
    }
   },
   "outputs": [],
   "source": [
    "from pymapd import connect\n",
    "\n",
    "dbname = 'mapd'\n",
    "user = 'mapd'\n",
    "host = 'localhost'\n",
    "password = 'HyperInteractive!'\n",
    "con = connect(user=\"mapd\", password= \"HyperInteractive!\", host=\"localhost\", dbname=\"mapd\")"
   ]
  },
  {
   "cell_type": "code",
   "execution_count": 15,
   "metadata": {
    "ExecuteTime": {
     "end_time": "2018-11-16T00:06:11.865182Z",
     "start_time": "2018-11-16T00:06:11.861555Z"
    }
   },
   "outputs": [],
   "source": [
    "def mapdql(query):\n",
    "    try:\n",
    "        print('Executing query: {}'.format(query))\n",
    "        return(con.execute(query))\n",
    "    except:\n",
    "        print('Exception executing query')\n",
    "        a,b,c = sys.exc_info()\n",
    "        for d in traceback.format_exception(a,b,c) :\n",
    "           print (d)"
   ]
  },
  {
   "cell_type": "markdown",
   "metadata": {},
   "source": [
    "#### Figure out Column Schema"
   ]
  },
  {
   "cell_type": "markdown",
   "metadata": {},
   "source": [
    "Which columns do we have?"
   ]
  },
  {
   "cell_type": "code",
   "execution_count": 16,
   "metadata": {
    "ExecuteTime": {
     "end_time": "2018-11-16T00:06:14.294296Z",
     "start_time": "2018-11-16T00:06:14.289248Z"
    }
   },
   "outputs": [
    {
     "data": {
      "text/plain": [
       "Index(['address', 'attributes', 'business_id', 'categories', 'city', 'hours',\n",
       "       'is_open', 'latitude', 'longitude', 'name', 'neighborhood',\n",
       "       'postal_code', 'review_count', 'stars', 'state'],\n",
       "      dtype='object')"
      ]
     },
     "execution_count": 16,
     "metadata": {},
     "output_type": "execute_result"
    }
   ],
   "source": [
    "cols = biz_df.columns\n",
    "cols"
   ]
  },
  {
   "cell_type": "markdown",
   "metadata": {},
   "source": [
    "Hmmm, data frame index is sorted alphabetically, but here order is important!  Let's just get the header from the CSV we just created"
   ]
  },
  {
   "cell_type": "code",
   "execution_count": 17,
   "metadata": {
    "ExecuteTime": {
     "end_time": "2018-11-16T00:06:17.201619Z",
     "start_time": "2018-11-16T00:06:17.071499Z"
    }
   },
   "outputs": [
    {
     "name": "stdout",
     "output_type": "stream",
     "text": [
      "business_id,name,address,neighborhood,city,postal_code,state,longitude,latitude,categories,review_count,stars\r\n"
     ]
    }
   ],
   "source": [
    "!head -1 {of}"
   ]
  },
  {
   "cell_type": "markdown",
   "metadata": {},
   "source": [
    "Building a DDL is relatively straightforward.  In OmniSci, we can encode simple strings that represent categories as dictionaries, saving on graphics card memory. The rest of the basic column types are basically standard SQL"
   ]
  },
  {
   "cell_type": "markdown",
   "metadata": {},
   "source": [
    "Then, instead of keeping the coordinates in separate columns, we use OmniSci's POINT geometry type to merge the columns on import."
   ]
  },
  {
   "cell_type": "code",
   "execution_count": 18,
   "metadata": {
    "ExecuteTime": {
     "end_time": "2018-11-16T00:06:21.365181Z",
     "start_time": "2018-11-16T00:06:21.361016Z"
    }
   },
   "outputs": [],
   "source": [
    "ddl = 'business_id TEXT ENCODING DICT, '\n",
    "ddl += 'name TEXT ENCODING DICT, '\n",
    "ddl += 'address TEXT ENCODING DICT, '\n",
    "ddl += 'neighborhood TEXT ENCODING DICT, '\n",
    "ddl += 'city TEXT ENCODING DICT, '\n",
    "ddl += 'postal_code TEXT ENCODING DICT, '\n",
    "ddl += 'state TEXT ENCODING DICT, '\n",
    "ddl += 'omnisci_geo GEOMETRY(POINT, 4326) ENCODING COMPRESSED(32), '\n",
    "#ddl += 'longitude FLOAT, '\n",
    "#ddl += 'latitude FLOAT, '\n",
    "ddl += 'categories TEXT, ' # should be comma-separated sublist, worth to break out?\n",
    "ddl += 'review_count INTEGER, '\n",
    "ddl += 'stars FLOAT '"
   ]
  },
  {
   "cell_type": "code",
   "execution_count": 21,
   "metadata": {
    "ExecuteTime": {
     "end_time": "2018-11-16T00:06:28.906261Z",
     "start_time": "2018-11-16T00:06:28.903559Z"
    }
   },
   "outputs": [],
   "source": [
    "query = 'CREATE TABLE yelp_biz ({});'.format(ddl)"
   ]
  },
  {
   "cell_type": "code",
   "execution_count": null,
   "metadata": {
    "ExecuteTime": {
     "end_time": "2018-11-16T00:06:29.668656Z",
     "start_time": "2018-11-16T00:06:29.661666Z"
    }
   },
   "outputs": [],
   "source": [
    "result = mapdql(query)\n",
    "# result is empty table with correct schema"
   ]
  },
  {
   "cell_type": "code",
   "execution_count": 23,
   "metadata": {
    "ExecuteTime": {
     "end_time": "2018-11-16T00:06:50.826484Z",
     "start_time": "2018-11-16T00:06:50.799143Z"
    }
   },
   "outputs": [],
   "source": [
    "# find current working directory\n",
    "# since COPY FROM requires a full path for data\n",
    "cwd_list = !pwd\n",
    "cwd = cwd_list[0]"
   ]
  },
  {
   "cell_type": "code",
   "execution_count": 27,
   "metadata": {
    "ExecuteTime": {
     "end_time": "2018-11-16T00:07:27.054407Z",
     "start_time": "2018-11-16T00:07:27.051244Z"
    }
   },
   "outputs": [],
   "source": [
    "import os\n",
    "csv_full_path = os.path.join(cwd, 'yelp/yelp_biz_2018.csv')"
   ]
  },
  {
   "cell_type": "code",
   "execution_count": 31,
   "metadata": {
    "ExecuteTime": {
     "end_time": "2018-11-16T00:09:48.694762Z",
     "start_time": "2018-11-16T00:09:48.691884Z"
    }
   },
   "outputs": [],
   "source": [
    "table_name = 'yelp_biz' # output table name\n",
    "query = \"COPY {} FROM '{}';\".format(table_name, csv_full_path)"
   ]
  },
  {
   "cell_type": "code",
   "execution_count": 29,
   "metadata": {
    "ExecuteTime": {
     "end_time": "2018-11-16T00:07:29.554025Z",
     "start_time": "2018-11-16T00:07:28.564823Z"
    }
   },
   "outputs": [
    {
     "name": "stdout",
     "output_type": "stream",
     "text": [
      "Executing query: COPY yelp_biz FROM '/home/mapdadmin/demo/yelp/yelp_biz_2018.csv';\n"
     ]
    }
   ],
   "source": [
    "result = mapdql(query)"
   ]
  },
  {
   "cell_type": "code",
   "execution_count": 35,
   "metadata": {
    "ExecuteTime": {
     "end_time": "2018-11-16T00:10:42.142054Z",
     "start_time": "2018-11-16T00:10:42.131521Z"
    }
   },
   "outputs": [
    {
     "name": "stdout",
     "output_type": "stream",
     "text": [
      "Created yelp business point table: 'yelp_biz'\n"
     ]
    }
   ],
   "source": [
    "omnisci_tables = con.get_tables()\n",
    "\n",
    "if table_name in omnisci_tables:\n",
    "    print(\"Created yelp business point table: '{}'\".format(table_name))"
   ]
  },
  {
   "cell_type": "markdown",
   "metadata": {},
   "source": [
    "### Results"
   ]
  },
  {
   "cell_type": "markdown",
   "metadata": {
    "ExecuteTime": {
     "end_time": "2018-11-15T22:37:44.018565Z",
     "start_time": "2018-11-15T22:37:43.883459Z"
    }
   },
   "source": [
    "With data imported into OmniSci, it is a breeze to construct interactive dashboards.  For example, here is the data above zoomed into Pheonix Arizona.  The charts are basically just using the defaults here, except that I colored Businesses on the main map from red to green based on their Yelp Stars.  <p>\n",
    "    I then added a bar chart showing the number of businesses by top-20 category types, and distribution of star ratings.  With a little more work, I could have retitled and created custom colors for the bar charts - but I was too eagre to interactively explore the data!"
   ]
  },
  {
   "cell_type": "markdown",
   "metadata": {},
   "source": [
    "#### All Phoenix Business Points by Yelp Star Rating"
   ]
  },
  {
   "cell_type": "markdown",
   "metadata": {
    "ExecuteTime": {
     "end_time": "2018-11-15T22:39:07.833856Z",
     "start_time": "2018-11-15T22:39:07.829509Z"
    }
   },
   "source": [
    "<img src=\"yelp/img/Pheonix_business_points_by_Yelp_star_rating.png\">"
   ]
  },
  {
   "cell_type": "markdown",
   "metadata": {},
   "source": [
    "#### Best Mexican Restaurants in Pheonix, according to Yelp"
   ]
  },
  {
   "cell_type": "markdown",
   "metadata": {
    "ExecuteTime": {
     "end_time": "2018-11-15T22:48:22.684443Z",
     "start_time": "2018-11-15T22:48:22.680273Z"
    }
   },
   "source": [
    "<img src=\"yelp/img/Pheonixs_Best_Mexican_Restaurants_OmniSci.png\">"
   ]
  },
  {
   "cell_type": "markdown",
   "metadata": {},
   "source": [
    "<i>Exercise left to the reader.  Yelp's classification system is evidently not perfect.  For the SW Cities, our top two categories are: 'Mexican, Restaurants' and 'Restaurants, Mexican'.  How would you clean this up?</i>"
   ]
  },
  {
   "cell_type": "markdown",
   "metadata": {},
   "source": [
    "### Summary"
   ]
  },
  {
   "cell_type": "markdown",
   "metadata": {},
   "source": [
    "The code above shows specifically how to load JSON point data with embedded separate latitude/longitude columns.  We also covered how to drop out or merge in-line objects within JSON files.  This workflow should also function well for any similar datasets which fit into machine memory."
   ]
  },
  {
   "cell_type": "markdown",
   "metadata": {},
   "source": [
    "The result is a very usable dashboard webapp which should allow you to quickly map yelp ratings for any business type.  "
   ]
  }
 ],
 "metadata": {
  "kernelspec": {
   "display_name": "Python 3",
   "language": "python",
   "name": "python3"
  },
  "language_info": {
   "codemirror_mode": {
    "name": "ipython",
    "version": 3
   },
   "file_extension": ".py",
   "mimetype": "text/x-python",
   "name": "python",
   "nbconvert_exporter": "python",
   "pygments_lexer": "ipython3",
   "version": "3.6.5"
  },
  "varInspector": {
   "cols": {
    "lenName": 16,
    "lenType": 16,
    "lenVar": 40
   },
   "kernels_config": {
    "python": {
     "delete_cmd_postfix": "",
     "delete_cmd_prefix": "del ",
     "library": "var_list.py",
     "varRefreshCmd": "print(var_dic_list())"
    },
    "r": {
     "delete_cmd_postfix": ") ",
     "delete_cmd_prefix": "rm(",
     "library": "var_list.r",
     "varRefreshCmd": "cat(var_dic_list()) "
    }
   },
   "types_to_exclude": [
    "module",
    "function",
    "builtin_function_or_method",
    "instance",
    "_Feature"
   ],
   "window_display": false
  }
 },
 "nbformat": 4,
 "nbformat_minor": 2
}
