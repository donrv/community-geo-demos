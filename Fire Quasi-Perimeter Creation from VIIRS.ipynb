{
 "cells": [
  {
   "cell_type": "markdown",
   "metadata": {},
   "source": [
    "### Fire Quasi-Perimeter Creation from VIIRS"
   ]
  },
  {
   "cell_type": "markdown",
   "metadata": {},
   "source": [
    "Existing fire perimeter data available from CalFire and GeoMAC do not include a critical variable - the point of origin.  This is often and best determined in the field, based on multiple forensic clues.  This has been done for the 2018 Camp Fire, but not publically released."
   ]
  },
  {
   "cell_type": "markdown",
   "metadata": {},
   "source": [
    "There are several available satellite fire detection services, none of them perfect.  The NASA/NOAA VIIRs satellite provides 752m pixel samples every 6 minutes from geosynchronous orbit.  We used this data to generate an Omni points geodatabase with time stamps."
   ]
  },
  {
   "cell_type": "markdown",
   "metadata": {},
   "source": [
    "However, to make this compatible with later fire perimeter data, we need polygons.  Because of the course spatial resolution of the original data, and the 'spotting' behavior of the fire, we elected to do this by buffering the pixel centroids to reflect pixel spacing, and then merging buffered points per time step."
   ]
  },
  {
   "cell_type": "code",
   "execution_count": 5,
   "metadata": {
    "ExecuteTime": {
     "end_time": "2019-03-05T18:06:23.135174Z",
     "start_time": "2019-03-05T18:06:22.660750Z"
    },
    "scrolled": true
   },
   "outputs": [
    {
     "name": "stdout",
     "output_type": "stream",
     "text": [
      "Using pymapd version 0.7.1\n",
      "OmniSci connection established on python global variable \"con\"\n",
      "Using CPU memory (/dev/shm) for temp geo files\n",
      "df: /dev/shm/csvs: No such file or directory\n"
     ]
    }
   ],
   "source": [
    "%run ../omnigeo.ipynb"
   ]
  },
  {
   "cell_type": "code",
   "execution_count": 6,
   "metadata": {
    "ExecuteTime": {
     "end_time": "2019-03-05T18:06:23.149985Z",
     "start_time": "2019-03-05T18:06:23.147403Z"
    }
   },
   "outputs": [],
   "source": [
    "import geopandas as gpd\n",
    "import pandas as pd\n",
    "import os, glob"
   ]
  },
  {
   "cell_type": "code",
   "execution_count": 7,
   "metadata": {
    "ExecuteTime": {
     "end_time": "2019-03-05T18:06:23.218645Z",
     "start_time": "2019-03-05T18:06:23.216482Z"
    }
   },
   "outputs": [],
   "source": [
    "perimeters = 'fire_camp_perimeters'"
   ]
  },
  {
   "cell_type": "code",
   "execution_count": 8,
   "metadata": {
    "ExecuteTime": {
     "end_time": "2019-03-05T18:06:23.381068Z",
     "start_time": "2019-03-05T18:06:23.377349Z"
    }
   },
   "outputs": [
    {
     "data": {
      "text/plain": [
       "'select min(ST_XMin(omnisci_geo)) as xmin, max(ST_XMax(omnisci_geo)) as xmax, min(ST_YMin(omnisci_geo)) as ymin, max(ST_YMax(omnisci_geo)) as ymax  from fire_camp_perimeters'"
      ]
     },
     "execution_count": 8,
     "metadata": {},
     "output_type": "execute_result"
    }
   ],
   "source": [
    "q = f'select min(ST_XMin(omnisci_geo)) as xmin, '\n",
    "q += f'max(ST_XMax(omnisci_geo)) as xmax, '\n",
    "q += f'min(ST_YMin(omnisci_geo)) as ymin, '\n",
    "q += f'max(ST_YMax(omnisci_geo)) as ymax '\n",
    "q += f' from {perimeters}' \n",
    "q"
   ]
  },
  {
   "cell_type": "code",
   "execution_count": 9,
   "metadata": {
    "ExecuteTime": {
     "end_time": "2019-03-05T18:06:23.532667Z",
     "start_time": "2019-03-05T18:06:23.519687Z"
    }
   },
   "outputs": [
    {
     "name": "stdout",
     "output_type": "stream",
     "text": [
      "Executing query: select min(ST_XMin(omnisci_geo)) as xmin, max(ST_XMax(omnisci_geo)) as xmax, min(ST_YMin(omnisci_geo)) as ymin, max(ST_YMax(omnisci_geo)) as ymax  from fire_camp_perimeters\n"
     ]
    }
   ],
   "source": [
    "results = mapdql(q)"
   ]
  },
  {
   "cell_type": "code",
   "execution_count": 10,
   "metadata": {
    "ExecuteTime": {
     "end_time": "2019-03-05T18:06:26.701062Z",
     "start_time": "2019-03-05T18:06:26.697031Z"
    }
   },
   "outputs": [
    {
     "data": {
      "text/plain": [
       "[(-121.777814599582, -121.352591766674, 39.5985802028322, 39.8978104581581)]"
      ]
     },
     "execution_count": 10,
     "metadata": {},
     "output_type": "execute_result"
    }
   ],
   "source": [
    "results.fetchall()"
   ]
  },
  {
   "cell_type": "markdown",
   "metadata": {},
   "source": [
    "### Extract Point of Origin"
   ]
  },
  {
   "cell_type": "code",
   "execution_count": 62,
   "metadata": {
    "ExecuteTime": {
     "end_time": "2019-03-05T18:33:46.439592Z",
     "start_time": "2019-03-05T18:33:46.437107Z"
    }
   },
   "outputs": [],
   "source": [
    "all_points_of_origin = 'fire_2018_sit_rep_pts_geomac'"
   ]
  },
  {
   "cell_type": "code",
   "execution_count": 63,
   "metadata": {
    "ExecuteTime": {
     "end_time": "2019-03-05T18:33:46.788522Z",
     "start_time": "2019-03-05T18:33:46.784940Z"
    }
   },
   "outputs": [],
   "source": [
    "def getColumnNamesTypes(table_name):\n",
    "    table_meta = con.get_table_details(all_points_of_origin)\n",
    "    col_names = []\n",
    "    col_types = []\n",
    "    for meta in table_meta:\n",
    "        col_names.append(meta[0])\n",
    "        col_types.append(meta[1])\n",
    "    return(col_names, col_types)   \n"
   ]
  },
  {
   "cell_type": "code",
   "execution_count": 64,
   "metadata": {
    "ExecuteTime": {
     "end_time": "2019-03-05T18:33:47.857670Z",
     "start_time": "2019-03-05T18:33:47.853963Z"
    }
   },
   "outputs": [],
   "source": [
    "def selectFirePOI(fire_name):\n",
    "    q = f'SELECT * FROM {all_points_of_origin} '\n",
    "    q += f\"WHERE incidentna = '{fire_name.upper()}'\"\n",
    "    results = mapdql(q)\n",
    "    df = pd.DataFrame(results.fetchall())\n",
    "    cols, types = getColumnNamesTypes(all_points_of_origin)\n",
    "    df.columns = cols\n",
    "    return(df)"
   ]
  },
  {
   "cell_type": "code",
   "execution_count": 65,
   "metadata": {
    "ExecuteTime": {
     "end_time": "2019-03-05T18:33:49.141992Z",
     "start_time": "2019-03-05T18:33:49.103051Z"
    }
   },
   "outputs": [
    {
     "name": "stdout",
     "output_type": "stream",
     "text": [
      "Executing query: SELECT * FROM fire_2018_sit_rep_pts_geomac WHERE incidentna = 'WOOLSEY'\n"
     ]
    },
    {
     "data": {
      "text/html": [
       "<div>\n",
       "<style>\n",
       "    .dataframe thead tr:only-child th {\n",
       "        text-align: right;\n",
       "    }\n",
       "\n",
       "    .dataframe thead th {\n",
       "        text-align: left;\n",
       "    }\n",
       "\n",
       "    .dataframe tbody tr th {\n",
       "        vertical-align: top;\n",
       "    }\n",
       "</style>\n",
       "<table border=\"1\" class=\"dataframe\">\n",
       "  <thead>\n",
       "    <tr style=\"text-align: right;\">\n",
       "      <th></th>\n",
       "      <th>latitude</th>\n",
       "      <th>longitude</th>\n",
       "      <th>acres</th>\n",
       "      <th>gacc</th>\n",
       "      <th>hotlink</th>\n",
       "      <th>state</th>\n",
       "      <th>status</th>\n",
       "      <th>firecause</th>\n",
       "      <th>reportdate</th>\n",
       "      <th>percentcon</th>\n",
       "      <th>...</th>\n",
       "      <th>pooownerun</th>\n",
       "      <th>incidentty</th>\n",
       "      <th>mergeid</th>\n",
       "      <th>containmen</th>\n",
       "      <th>pooprotect</th>\n",
       "      <th>complexnam</th>\n",
       "      <th>perimexist</th>\n",
       "      <th>irwinmodif</th>\n",
       "      <th>invalid</th>\n",
       "      <th>omnisci_geo</th>\n",
       "    </tr>\n",
       "  </thead>\n",
       "  <tbody>\n",
       "    <tr>\n",
       "      <th>0</th>\n",
       "      <td>34.24</td>\n",
       "      <td>-118.7</td>\n",
       "      <td>96949.0</td>\n",
       "      <td>OSCC</td>\n",
       "      <td>http://www.nifc.gov/fireInfo/nfn.htm</td>\n",
       "      <td>CA</td>\n",
       "      <td>F</td>\n",
       "      <td>Unknown</td>\n",
       "      <td>1970-01-01</td>\n",
       "      <td>100</td>\n",
       "      <td>...</td>\n",
       "      <td>CAVNC</td>\n",
       "      <td>WF</td>\n",
       "      <td>None</td>\n",
       "      <td>None</td>\n",
       "      <td>Local Agency</td>\n",
       "      <td>None</td>\n",
       "      <td>Y</td>\n",
       "      <td>1970-01-01</td>\n",
       "      <td>None</td>\n",
       "      <td>POINT (-118.699999953946 34.2399999984726)</td>\n",
       "    </tr>\n",
       "  </tbody>\n",
       "</table>\n",
       "<p>1 rows × 30 columns</p>\n",
       "</div>"
      ],
      "text/plain": [
       "   latitude  longitude    acres  gacc                               hotlink  \\\n",
       "0     34.24     -118.7  96949.0  OSCC  http://www.nifc.gov/fireInfo/nfn.htm   \n",
       "\n",
       "  state status firecause  reportdate  percentcon  \\\n",
       "0    CA      F   Unknown  1970-01-01         100   \n",
       "\n",
       "                      ...                     pooownerun incidentty mergeid  \\\n",
       "0                     ...                          CAVNC         WF    None   \n",
       "\n",
       "  containmen    pooprotect complexnam perimexist  irwinmodif  invalid  \\\n",
       "0       None  Local Agency       None          Y  1970-01-01     None   \n",
       "\n",
       "                                  omnisci_geo  \n",
       "0  POINT (-118.699999953946 34.2399999984726)  \n",
       "\n",
       "[1 rows x 30 columns]"
      ]
     },
     "execution_count": 65,
     "metadata": {},
     "output_type": "execute_result"
    }
   ],
   "source": [
    "df = selectFirePOI('WOOLSEY')\n",
    "df"
   ]
  },
  {
   "cell_type": "markdown",
   "metadata": {},
   "source": [
    "### Convert from Pandas to Geodataframe"
   ]
  },
  {
   "cell_type": "code",
   "execution_count": 66,
   "metadata": {
    "ExecuteTime": {
     "end_time": "2019-03-05T18:33:51.292771Z",
     "start_time": "2019-03-05T18:33:51.289650Z"
    }
   },
   "outputs": [],
   "source": [
    "import geopandas as gpd\n",
    "from shapely.geometry import Point\n",
    "from shapely import wkt\n",
    "import shutil"
   ]
  },
  {
   "cell_type": "code",
   "execution_count": 67,
   "metadata": {
    "ExecuteTime": {
     "end_time": "2019-03-05T18:34:01.607032Z",
     "start_time": "2019-03-05T18:34:01.603706Z"
    }
   },
   "outputs": [],
   "source": [
    "def pandas2geo(df):\n",
    "    # convert pandas dataframe to geodataframe using the shapely geometry column\n",
    "    df['shapely_point'] = df['omnisci_geo'].apply(wkt.loads)\n",
    "\n",
    "    gdf = gpd.GeoDataFrame(df, geometry='shapely_point')\n",
    "    return(gdf)"
   ]
  },
  {
   "cell_type": "code",
   "execution_count": 68,
   "metadata": {
    "ExecuteTime": {
     "end_time": "2019-03-05T18:34:06.503822Z",
     "start_time": "2019-03-05T18:34:06.499822Z"
    }
   },
   "outputs": [],
   "source": [
    "origin_gdf = pandas2geo(df)"
   ]
  },
  {
   "cell_type": "markdown",
   "metadata": {},
   "source": [
    "#### Export Simple Origin Point for GIS Munging"
   ]
  },
  {
   "cell_type": "markdown",
   "metadata": {},
   "source": [
    "Turns out to be amazingly hard... if any datetime fields exist, geopandas and fiona will refuse to export to csv, shapefile, etc.  In theory, geopackage should work, but doesn't in practice."
   ]
  },
  {
   "cell_type": "code",
   "execution_count": 69,
   "metadata": {
    "ExecuteTime": {
     "end_time": "2019-03-05T18:34:09.302005Z",
     "start_time": "2019-03-05T18:34:09.297252Z"
    }
   },
   "outputs": [],
   "source": [
    "def _get_col_dtype(col):\n",
    "        \"\"\"\n",
    "        Infer datatype of a pandas column, process only if the column dtype is object. \n",
    "        input:   col: a pandas Series representing a df column. \n",
    "        \"\"\"\n",
    "\n",
    "        if col.dtype ==\"object\":\n",
    "\n",
    "            # try numeric\n",
    "            try:\n",
    "                col_new = pd.to_datetime(col.dropna().unique())\n",
    "                return col_new.dtype\n",
    "            except:\n",
    "                try:\n",
    "                    col_new = pd.to_numeric(col.dropna().unique())\n",
    "                    return col_new.dtype\n",
    "                except:\n",
    "                    try:\n",
    "                        col_new = pd.to_timedelta(col.dropna().unique())\n",
    "                        return col_new.dtype\n",
    "                    except:\n",
    "                        return \"object\"\n",
    "\n",
    "        else:\n",
    "            return col.dtype"
   ]
  },
  {
   "cell_type": "code",
   "execution_count": 70,
   "metadata": {
    "ExecuteTime": {
     "end_time": "2019-03-05T18:34:11.263533Z",
     "start_time": "2019-03-05T18:34:11.259884Z"
    }
   },
   "outputs": [],
   "source": [
    "def getDateTimeFields(df):\n",
    "    dtf = []\n",
    "    for fieldname in df.columns:\n",
    "        #print(fieldname, _get_col_dtype(df[fieldname]))\n",
    "        if _get_col_dtype(df[fieldname]) == 'datetime64[ns]':\n",
    "            dtf.append(fieldname)\n",
    "    return(dtf)"
   ]
  },
  {
   "cell_type": "code",
   "execution_count": 71,
   "metadata": {
    "ExecuteTime": {
     "end_time": "2019-03-05T18:34:13.143851Z",
     "start_time": "2019-03-05T18:34:13.119077Z"
    }
   },
   "outputs": [
    {
     "data": {
      "text/plain": [
       "['reportdate',\n",
       " 'firediscov',\n",
       " 'complexpar',\n",
       " 'fireoutdat',\n",
       " 'datecurren',\n",
       " 'poolandown',\n",
       " 'mergeid',\n",
       " 'containmen',\n",
       " 'complexnam',\n",
       " 'irwinmodif',\n",
       " 'invalid']"
      ]
     },
     "execution_count": 71,
     "metadata": {},
     "output_type": "execute_result"
    }
   ],
   "source": [
    "getDateTimeFields(origin_gdf)"
   ]
  },
  {
   "cell_type": "markdown",
   "metadata": {},
   "source": [
    "Note: some old fields are mischaraterized"
   ]
  },
  {
   "cell_type": "code",
   "execution_count": 74,
   "metadata": {
    "ExecuteTime": {
     "end_time": "2019-03-05T18:34:39.235006Z",
     "start_time": "2019-03-05T18:34:39.231607Z"
    }
   },
   "outputs": [],
   "source": [
    "def force2str(df):\n",
    "    for col in getDateTimeFields(df):\n",
    "        print(f'Forcing column {col} to string for export')\n",
    "        df[col].apply(str)\n",
    "    return(df)"
   ]
  },
  {
   "cell_type": "code",
   "execution_count": 75,
   "metadata": {
    "ExecuteTime": {
     "end_time": "2019-03-05T18:34:39.884897Z",
     "start_time": "2019-03-05T18:34:39.857909Z"
    }
   },
   "outputs": [
    {
     "name": "stdout",
     "output_type": "stream",
     "text": [
      "Forcing column reportdate to string for export\n",
      "Forcing column firediscov to string for export\n",
      "Forcing column complexpar to string for export\n",
      "Forcing column fireoutdat to string for export\n",
      "Forcing column datecurren to string for export\n",
      "Forcing column poolandown to string for export\n",
      "Forcing column mergeid to string for export\n",
      "Forcing column containmen to string for export\n",
      "Forcing column complexnam to string for export\n",
      "Forcing column irwinmodif to string for export\n",
      "Forcing column invalid to string for export\n"
     ]
    }
   ],
   "source": [
    "origin_gdf = force2str(origin_gdf)"
   ]
  },
  {
   "cell_type": "code",
   "execution_count": 82,
   "metadata": {
    "ExecuteTime": {
     "end_time": "2019-03-05T18:36:41.413848Z",
     "start_time": "2019-03-05T18:36:41.407430Z"
    },
    "collapsed": true
   },
   "outputs": [
    {
     "name": "stdout",
     "output_type": "stream",
     "text": [
      "latitude is type float64\n",
      "longitude is type float64\n",
      "acres is type float64\n",
      "gacc is type object\n",
      "hotlink is type object\n",
      "state is type object\n",
      "status is type object\n",
      "firecause is type object\n",
      "reportdate is type object\n",
      "percentcon is type int64\n",
      "uniquefire is type object\n",
      "firediscov is type object\n",
      "complexpar is type object\n",
      "poorespons is type object\n",
      "incidentna is type object\n",
      "irwinid is type object\n",
      "fireoutdat is type object\n",
      "datecurren is type object\n",
      "fireyear is type int64\n",
      "poolandown is type object\n",
      "pooownerun is type object\n",
      "incidentty is type object\n",
      "mergeid is type object\n",
      "containmen is type object\n",
      "pooprotect is type object\n",
      "complexnam is type object\n",
      "perimexist is type object\n",
      "irwinmodif is type object\n",
      "invalid is type object\n",
      "omnisci_geo is type object\n",
      "shapely_point is type object\n"
     ]
    }
   ],
   "source": [
    "for o in origin_gdf.columns:\n",
    "    print(f'{o} is type {origin_gdf[o].dtype}')"
   ]
  },
  {
   "cell_type": "code",
   "execution_count": 83,
   "metadata": {
    "ExecuteTime": {
     "end_time": "2019-03-05T18:37:59.966183Z",
     "start_time": "2019-03-05T18:37:59.940525Z"
    }
   },
   "outputs": [],
   "source": [
    "origin_gdf.drop(getDateTimeFields(origin_gdf),inplace=True, axis=1)"
   ]
  },
  {
   "cell_type": "code",
   "execution_count": 113,
   "metadata": {
    "ExecuteTime": {
     "end_time": "2019-03-05T18:43:34.575034Z",
     "start_time": "2019-03-05T18:43:34.569357Z"
    }
   },
   "outputs": [],
   "source": [
    "def poiShape(origin_gdf):\n",
    "    fire_name = origin_gdf['incidentna'][0].lower()\n",
    "    shapedir = f'data/origins/{fire_name}'\n",
    "    if not os.path.exists(shapedir):\n",
    "        !mkdir {shapedir}\n",
    "    outfile = f'data/origins/fire_{fire_name}_approx_origin_point.shp'\n",
    "    origin_gdf.to_file(outfile)\n",
    "    zip_name = f'fire_{fire_name}_origin_point'\n",
    "    shutil.make_archive(f'{zip_name}', 'zip', shapedir)\n",
    "    print(f'File saved to: {zip_name}.zip')"
   ]
  },
  {
   "cell_type": "code",
   "execution_count": 114,
   "metadata": {
    "ExecuteTime": {
     "end_time": "2019-03-05T18:43:35.524775Z",
     "start_time": "2019-03-05T18:43:35.515843Z"
    }
   },
   "outputs": [
    {
     "name": "stdout",
     "output_type": "stream",
     "text": [
      "File saved to: fire_woolsey_origin_point.zip\n"
     ]
    }
   ],
   "source": [
    "poiShape(origin_gdf)"
   ]
  },
  {
   "cell_type": "markdown",
   "metadata": {},
   "source": [
    "#### Buffer Point to Pseudo-Perimeter"
   ]
  },
  {
   "cell_type": "code",
   "execution_count": 131,
   "metadata": {
    "ExecuteTime": {
     "end_time": "2019-03-05T01:22:43.154524Z",
     "start_time": "2019-03-05T01:22:43.150314Z"
    }
   },
   "outputs": [],
   "source": [
    "# before doing buffering, we need to project into a planar coordinate system\n",
    "origin_gdf.crs = {'init' :'epsg:4326'}\n",
    "try:\n",
    "    origin_gdf = origin_gdf.to_crs({'init':'EPSG:3857'})\n",
    "except:\n",
    "    print('Problem projecting point into planar coordinates for buffering')"
   ]
  },
  {
   "cell_type": "code",
   "execution_count": 132,
   "metadata": {
    "ExecuteTime": {
     "end_time": "2019-03-05T01:22:43.260307Z",
     "start_time": "2019-03-05T01:22:43.256742Z"
    }
   },
   "outputs": [
    {
     "data": {
      "text/plain": [
       "{'init': 'EPSG:3857'}"
      ]
     },
     "execution_count": 132,
     "metadata": {},
     "output_type": "execute_result"
    }
   ],
   "source": [
    "origin_gdf.crs"
   ]
  },
  {
   "cell_type": "code",
   "execution_count": 133,
   "metadata": {
    "ExecuteTime": {
     "end_time": "2019-03-05T01:22:43.415078Z",
     "start_time": "2019-03-05T01:22:43.410865Z"
    }
   },
   "outputs": [
    {
     "data": {
      "text/plain": [
       "0    Point\n",
       "dtype: object"
      ]
     },
     "execution_count": 133,
     "metadata": {},
     "output_type": "execute_result"
    }
   ],
   "source": [
    "origin_gdf.type"
   ]
  },
  {
   "cell_type": "code",
   "execution_count": 134,
   "metadata": {
    "ExecuteTime": {
     "end_time": "2019-03-05T01:22:44.089863Z",
     "start_time": "2019-03-05T01:22:44.086864Z"
    }
   },
   "outputs": [],
   "source": [
    "# assign to new column to keep others....\n",
    "origin_gdf['geometry'] = origin_gdf.geometry.buffer(752/2)"
   ]
  },
  {
   "cell_type": "code",
   "execution_count": 135,
   "metadata": {
    "ExecuteTime": {
     "end_time": "2019-03-05T01:22:44.497188Z",
     "start_time": "2019-03-05T01:22:44.476254Z"
    }
   },
   "outputs": [
    {
     "data": {
      "text/html": [
       "<div>\n",
       "<style>\n",
       "    .dataframe thead tr:only-child th {\n",
       "        text-align: right;\n",
       "    }\n",
       "\n",
       "    .dataframe thead th {\n",
       "        text-align: left;\n",
       "    }\n",
       "\n",
       "    .dataframe tbody tr th {\n",
       "        vertical-align: top;\n",
       "    }\n",
       "</style>\n",
       "<table border=\"1\" class=\"dataframe\">\n",
       "  <thead>\n",
       "    <tr style=\"text-align: right;\">\n",
       "      <th></th>\n",
       "      <th>latitude</th>\n",
       "      <th>longitude</th>\n",
       "      <th>acres</th>\n",
       "      <th>gacc</th>\n",
       "      <th>hotlink</th>\n",
       "      <th>state</th>\n",
       "      <th>status</th>\n",
       "      <th>firecause</th>\n",
       "      <th>reportdate</th>\n",
       "      <th>percentcon</th>\n",
       "      <th>...</th>\n",
       "      <th>mergeid</th>\n",
       "      <th>containmen</th>\n",
       "      <th>pooprotect</th>\n",
       "      <th>complexnam</th>\n",
       "      <th>perimexist</th>\n",
       "      <th>irwinmodif</th>\n",
       "      <th>invalid</th>\n",
       "      <th>omnisci_geo</th>\n",
       "      <th>shapely_point</th>\n",
       "      <th>geometry</th>\n",
       "    </tr>\n",
       "  </thead>\n",
       "  <tbody>\n",
       "    <tr>\n",
       "      <th>0</th>\n",
       "      <td>39.82</td>\n",
       "      <td>-121.44</td>\n",
       "      <td>153336.0</td>\n",
       "      <td>ONCC</td>\n",
       "      <td>http://www.nifc.gov/fireInfo/nfn.htm</td>\n",
       "      <td>CA</td>\n",
       "      <td>F</td>\n",
       "      <td>Unknown</td>\n",
       "      <td>1970-01-01</td>\n",
       "      <td>100</td>\n",
       "      <td>...</td>\n",
       "      <td>None</td>\n",
       "      <td>1970-01-01</td>\n",
       "      <td>CDF</td>\n",
       "      <td>None</td>\n",
       "      <td>Y</td>\n",
       "      <td>1970-01-01</td>\n",
       "      <td>None</td>\n",
       "      <td>POINT (-121.439999929368 39.8199999936949)</td>\n",
       "      <td>POINT (-13518638.95407242 4839819.542282384)</td>\n",
       "      <td>POLYGON ((-13518262.95407242 4839819.542282384...</td>\n",
       "    </tr>\n",
       "  </tbody>\n",
       "</table>\n",
       "<p>1 rows × 32 columns</p>\n",
       "</div>"
      ],
      "text/plain": [
       "   latitude  longitude     acres  gacc                               hotlink  \\\n",
       "0     39.82    -121.44  153336.0  ONCC  http://www.nifc.gov/fireInfo/nfn.htm   \n",
       "\n",
       "  state status firecause  reportdate  percentcon  \\\n",
       "0    CA      F   Unknown  1970-01-01         100   \n",
       "\n",
       "                         ...                         mergeid  containmen  \\\n",
       "0                        ...                            None  1970-01-01   \n",
       "\n",
       "  pooprotect complexnam perimexist  irwinmodif invalid  \\\n",
       "0        CDF       None          Y  1970-01-01    None   \n",
       "\n",
       "                                  omnisci_geo  \\\n",
       "0  POINT (-121.439999929368 39.8199999936949)   \n",
       "\n",
       "                                  shapely_point  \\\n",
       "0  POINT (-13518638.95407242 4839819.542282384)   \n",
       "\n",
       "                                            geometry  \n",
       "0  POLYGON ((-13518262.95407242 4839819.542282384...  \n",
       "\n",
       "[1 rows x 32 columns]"
      ]
     },
     "execution_count": 135,
     "metadata": {},
     "output_type": "execute_result"
    }
   ],
   "source": [
    "origin_gdf.head()"
   ]
  },
  {
   "cell_type": "code",
   "execution_count": 136,
   "metadata": {
    "ExecuteTime": {
     "end_time": "2019-03-05T01:22:45.099323Z",
     "start_time": "2019-03-05T01:22:45.095739Z"
    }
   },
   "outputs": [],
   "source": [
    "try:\n",
    "    # set_geometry('geometry', crs=df.crs)\n",
    "    origin_gdf.set_geometry('geometry', crs=origin_gdf.crs)\n",
    "except:\n",
    "    print('Problem setting new geometry column')"
   ]
  },
  {
   "cell_type": "code",
   "execution_count": 137,
   "metadata": {
    "ExecuteTime": {
     "end_time": "2019-03-05T01:22:46.228482Z",
     "start_time": "2019-03-05T01:22:46.224588Z"
    }
   },
   "outputs": [],
   "source": [
    "origin_gdf.drop(['shapely_point','omnisci_geo'],inplace=True,axis=1)"
   ]
  },
  {
   "cell_type": "code",
   "execution_count": 138,
   "metadata": {
    "ExecuteTime": {
     "end_time": "2019-03-05T01:22:47.521860Z",
     "start_time": "2019-03-05T01:22:47.499061Z"
    }
   },
   "outputs": [
    {
     "data": {
      "text/html": [
       "<div>\n",
       "<style>\n",
       "    .dataframe thead tr:only-child th {\n",
       "        text-align: right;\n",
       "    }\n",
       "\n",
       "    .dataframe thead th {\n",
       "        text-align: left;\n",
       "    }\n",
       "\n",
       "    .dataframe tbody tr th {\n",
       "        vertical-align: top;\n",
       "    }\n",
       "</style>\n",
       "<table border=\"1\" class=\"dataframe\">\n",
       "  <thead>\n",
       "    <tr style=\"text-align: right;\">\n",
       "      <th></th>\n",
       "      <th>latitude</th>\n",
       "      <th>longitude</th>\n",
       "      <th>acres</th>\n",
       "      <th>gacc</th>\n",
       "      <th>hotlink</th>\n",
       "      <th>state</th>\n",
       "      <th>status</th>\n",
       "      <th>firecause</th>\n",
       "      <th>reportdate</th>\n",
       "      <th>percentcon</th>\n",
       "      <th>...</th>\n",
       "      <th>pooownerun</th>\n",
       "      <th>incidentty</th>\n",
       "      <th>mergeid</th>\n",
       "      <th>containmen</th>\n",
       "      <th>pooprotect</th>\n",
       "      <th>complexnam</th>\n",
       "      <th>perimexist</th>\n",
       "      <th>irwinmodif</th>\n",
       "      <th>invalid</th>\n",
       "      <th>geometry</th>\n",
       "    </tr>\n",
       "  </thead>\n",
       "  <tbody>\n",
       "    <tr>\n",
       "      <th>0</th>\n",
       "      <td>39.82</td>\n",
       "      <td>-121.44</td>\n",
       "      <td>153336.0</td>\n",
       "      <td>ONCC</td>\n",
       "      <td>http://www.nifc.gov/fireInfo/nfn.htm</td>\n",
       "      <td>CA</td>\n",
       "      <td>F</td>\n",
       "      <td>Unknown</td>\n",
       "      <td>1970-01-01</td>\n",
       "      <td>100</td>\n",
       "      <td>...</td>\n",
       "      <td>CAPNF</td>\n",
       "      <td>WF</td>\n",
       "      <td>None</td>\n",
       "      <td>1970-01-01</td>\n",
       "      <td>CDF</td>\n",
       "      <td>None</td>\n",
       "      <td>Y</td>\n",
       "      <td>1970-01-01</td>\n",
       "      <td>None</td>\n",
       "      <td>POLYGON ((-13518262.95407242 4839819.542282384...</td>\n",
       "    </tr>\n",
       "  </tbody>\n",
       "</table>\n",
       "<p>1 rows × 30 columns</p>\n",
       "</div>"
      ],
      "text/plain": [
       "   latitude  longitude     acres  gacc                               hotlink  \\\n",
       "0     39.82    -121.44  153336.0  ONCC  http://www.nifc.gov/fireInfo/nfn.htm   \n",
       "\n",
       "  state status firecause  reportdate  percentcon  \\\n",
       "0    CA      F   Unknown  1970-01-01         100   \n",
       "\n",
       "                         ...                         pooownerun incidentty  \\\n",
       "0                        ...                              CAPNF         WF   \n",
       "\n",
       "  mergeid  containmen pooprotect complexnam perimexist  irwinmodif  invalid  \\\n",
       "0    None  1970-01-01        CDF       None          Y  1970-01-01     None   \n",
       "\n",
       "                                            geometry  \n",
       "0  POLYGON ((-13518262.95407242 4839819.542282384...  \n",
       "\n",
       "[1 rows x 30 columns]"
      ]
     },
     "execution_count": 138,
     "metadata": {},
     "output_type": "execute_result"
    }
   ],
   "source": [
    "origin_gdf.head()"
   ]
  },
  {
   "cell_type": "code",
   "execution_count": 216,
   "metadata": {
    "ExecuteTime": {
     "end_time": "2019-03-05T02:53:08.725999Z",
     "start_time": "2019-03-05T02:53:08.721332Z"
    }
   },
   "outputs": [
    {
     "data": {
      "text/plain": [
       "0    POLYGON ((-13518262.95407242 4839819.542282384...\n",
       "Name: geometry, dtype: object"
      ]
     },
     "execution_count": 216,
     "metadata": {},
     "output_type": "execute_result"
    }
   ],
   "source": [
    "origin_gdf.geometry"
   ]
  },
  {
   "cell_type": "code",
   "execution_count": 217,
   "metadata": {
    "ExecuteTime": {
     "end_time": "2019-03-05T02:53:10.809635Z",
     "start_time": "2019-03-05T02:53:10.805961Z"
    }
   },
   "outputs": [
    {
     "data": {
      "text/plain": [
       "{'init': 'EPSG:3857'}"
      ]
     },
     "execution_count": 217,
     "metadata": {},
     "output_type": "execute_result"
    }
   ],
   "source": [
    "origin_gdf.crs"
   ]
  },
  {
   "cell_type": "code",
   "execution_count": 235,
   "metadata": {
    "ExecuteTime": {
     "end_time": "2019-03-05T03:10:49.654330Z",
     "start_time": "2019-03-05T03:10:49.651732Z"
    }
   },
   "outputs": [],
   "source": [
    "# not sure why this should be necessary, except somehow we now have a series\n",
    "# instead of a geodataframe (because just one row?)\n",
    "o2 = gpd.GeoDataFrame(origin_gdf)"
   ]
  },
  {
   "cell_type": "code",
   "execution_count": 236,
   "metadata": {
    "ExecuteTime": {
     "end_time": "2019-03-05T03:10:50.092791Z",
     "start_time": "2019-03-05T03:10:50.090553Z"
    }
   },
   "outputs": [],
   "source": [
    "o2.crs = 'epsg:3857'"
   ]
  },
  {
   "cell_type": "markdown",
   "metadata": {},
   "source": [
    "Weird and annoying issue: geopandas will not correctly export datetime fields.<br>Based on SO, need to manually define schema"
   ]
  },
  {
   "cell_type": "code",
   "execution_count": 237,
   "metadata": {
    "ExecuteTime": {
     "end_time": "2019-03-05T03:10:51.145355Z",
     "start_time": "2019-03-05T03:10:51.141300Z"
    }
   },
   "outputs": [
    {
     "data": {
      "text/plain": [
       "Index(['latitude', 'longitude', 'acres', 'gacc', 'hotlink', 'state', 'status',\n",
       "       'firecause', 'reportdate', 'percentcon', 'uniquefire', 'firediscov',\n",
       "       'complexpar', 'poorespons', 'incidentna', 'irwinid', 'fireoutdat',\n",
       "       'datecurren', 'fireyear', 'poolandown', 'pooownerun', 'incidentty',\n",
       "       'mergeid', 'containmen', 'pooprotect', 'complexnam', 'perimexist',\n",
       "       'irwinmodif', 'invalid', 'geometry'],\n",
       "      dtype='object')"
      ]
     },
     "execution_count": 237,
     "metadata": {},
     "output_type": "execute_result"
    }
   ],
   "source": [
    "origin_gdf.columns"
   ]
  },
  {
   "cell_type": "markdown",
   "metadata": {},
   "source": [
    "Yipes, burried deep inside geopandas is a way to infer schema..."
   ]
  },
  {
   "cell_type": "code",
   "execution_count": 261,
   "metadata": {
    "ExecuteTime": {
     "end_time": "2019-03-05T03:16:21.591037Z",
     "start_time": "2019-03-05T03:16:21.586610Z"
    },
    "scrolled": true
   },
   "outputs": [
    {
     "name": "stdout",
     "output_type": "stream",
     "text": [
      "{'geometry': 'Polygon', 'properties': OrderedDict([('latitude', 'float'), ('longitude', 'float'), ('acres', 'float'), ('gacc', 'str'), ('hotlink', 'str'), ('state', 'str'), ('status', 'str'), ('firecause', 'str'), ('percentcon', 'int'), ('uniquefire', 'str'), ('poorespons', 'str'), ('incidentna', 'str'), ('irwinid', 'str'), ('fireyear', 'int'), ('poolandown', 'str'), ('pooownerun', 'str'), ('incidentty', 'str'), ('pooprotect', 'str'), ('perimexist', 'str')])}\n"
     ]
    }
   ],
   "source": [
    "schema = gpd.io.file.infer_schema(o2)\n",
    "print(schema)"
   ]
  },
  {
   "cell_type": "code",
   "execution_count": 262,
   "metadata": {
    "ExecuteTime": {
     "end_time": "2019-03-05T03:16:23.553337Z",
     "start_time": "2019-03-05T03:16:23.548927Z"
    }
   },
   "outputs": [
    {
     "data": {
      "text/plain": [
       "Index(['latitude', 'longitude', 'acres', 'gacc', 'hotlink', 'state', 'status',\n",
       "       'firecause', 'percentcon', 'uniquefire', 'poorespons', 'incidentna',\n",
       "       'irwinid', 'fireyear', 'poolandown', 'pooownerun', 'incidentty',\n",
       "       'pooprotect', 'perimexist', 'geometry'],\n",
       "      dtype='object')"
      ]
     },
     "execution_count": 262,
     "metadata": {},
     "output_type": "execute_result"
    }
   ],
   "source": [
    "o2.columns"
   ]
  },
  {
   "cell_type": "code",
   "execution_count": 263,
   "metadata": {
    "ExecuteTime": {
     "end_time": "2019-03-05T03:16:24.537894Z",
     "start_time": "2019-03-05T03:16:24.534488Z"
    }
   },
   "outputs": [],
   "source": [
    "def redatifySchema(schema):\n",
    "    fixed = {}\n",
    "    for key, value in schema['properties'].items():\n",
    "        # do something with value\n",
    "        if key in getDateTimeFields(o2):\n",
    "            print(f'Writing new key for {key}')\n",
    "            schema['properties'][key] = 'datetime'\n",
    "    return(schema)       "
   ]
  },
  {
   "cell_type": "code",
   "execution_count": 264,
   "metadata": {
    "ExecuteTime": {
     "end_time": "2019-03-05T03:16:26.313601Z",
     "start_time": "2019-03-05T03:16:25.996124Z"
    }
   },
   "outputs": [
    {
     "data": {
      "text/plain": [
       "{'geometry': 'Polygon',\n",
       " 'properties': OrderedDict([('latitude', 'float'),\n",
       "              ('longitude', 'float'),\n",
       "              ('acres', 'float'),\n",
       "              ('gacc', 'str'),\n",
       "              ('hotlink', 'str'),\n",
       "              ('state', 'str'),\n",
       "              ('status', 'str'),\n",
       "              ('firecause', 'str'),\n",
       "              ('percentcon', 'int'),\n",
       "              ('uniquefire', 'str'),\n",
       "              ('poorespons', 'str'),\n",
       "              ('incidentna', 'str'),\n",
       "              ('irwinid', 'str'),\n",
       "              ('fireyear', 'int'),\n",
       "              ('poolandown', 'str'),\n",
       "              ('pooownerun', 'str'),\n",
       "              ('incidentty', 'str'),\n",
       "              ('pooprotect', 'str'),\n",
       "              ('perimexist', 'str')])}"
      ]
     },
     "execution_count": 264,
     "metadata": {},
     "output_type": "execute_result"
    }
   ],
   "source": [
    "redatifySchema(schema)"
   ]
  },
  {
   "cell_type": "code",
   "execution_count": 265,
   "metadata": {
    "ExecuteTime": {
     "end_time": "2019-03-05T03:16:59.597978Z",
     "start_time": "2019-03-05T03:16:59.594334Z"
    }
   },
   "outputs": [
    {
     "data": {
      "text/plain": [
       "'1.8.4'"
      ]
     },
     "execution_count": 265,
     "metadata": {},
     "output_type": "execute_result"
    }
   ],
   "source": [
    "fiona.__version__"
   ]
  },
  {
   "cell_type": "code",
   "execution_count": 266,
   "metadata": {
    "ExecuteTime": {
     "end_time": "2019-03-05T03:17:00.574089Z",
     "start_time": "2019-03-05T03:17:00.413803Z"
    }
   },
   "outputs": [
    {
     "name": "stdout",
     "output_type": "stream",
     "text": [
      "GDAL 2.4.0, released 2018/12/14\r\n"
     ]
    }
   ],
   "source": [
    "!gdalinfo --version"
   ]
  },
  {
   "cell_type": "code",
   "execution_count": 267,
   "metadata": {
    "ExecuteTime": {
     "end_time": "2019-03-05T03:17:01.745252Z",
     "start_time": "2019-03-05T03:17:01.570414Z"
    }
   },
   "outputs": [
    {
     "name": "stdout",
     "output_type": "stream",
     "text": [
      "Back projection not working, using ogr\n"
     ]
    },
    {
     "data": {
      "text/plain": [
       "{'init': 'EPSG:3857'}"
      ]
     },
     "execution_count": 267,
     "metadata": {},
     "output_type": "execute_result"
    }
   ],
   "source": [
    "import traceback\n",
    "import sys\n",
    "\n",
    "if 0:\n",
    "    # now back to geo, since wkt loader requires WGS84\n",
    "    try:\n",
    "        origin_gdf = o2.to_crs(epsg=4326)\n",
    "    except:\n",
    "        print('Problem back projecting to WGS84')\n",
    "        exc_type, exc_value, exc_tb = sys.exc_info()\n",
    "        traceback.print_exception(exc_type, exc_value, exc_tb)    \n",
    "\n",
    "else:\n",
    "    print('Back projection not working, using ogr')\n",
    "    driver = 'ESRI Shapefile'\n",
    "    ext = 'shp'\n",
    "    planar_file = f'origin_poly_3857.{ext}'\n",
    "    o2.to_file(planar_file, schema=schema, driver=f'{driver}')\n",
    "    geo_file = planar_file.replace(f'3857.{ext}',f'geo.{ext}')\n",
    "    !ogr2ogr {geo_file} {planar_file}\n",
    "origin_gdf.crs"
   ]
  },
  {
   "cell_type": "code",
   "execution_count": 270,
   "metadata": {
    "ExecuteTime": {
     "end_time": "2019-03-05T03:17:40.520986Z",
     "start_time": "2019-03-05T03:17:40.396331Z"
    }
   },
   "outputs": [
    {
     "name": "stdout",
     "output_type": "stream",
     "text": [
      "camp_fire_origin_perimeter.shp\torigin_poly_3857.shp  origin_poly_geo.shp\r\n"
     ]
    }
   ],
   "source": [
    "!ls *.shp"
   ]
  },
  {
   "cell_type": "markdown",
   "metadata": {},
   "source": [
    "OK, now have a geo file on disk as shape, without any datetime columns<br>\n",
    "Now want to load that, and force back at least the single datetime representing fire perimeter time"
   ]
  },
  {
   "cell_type": "code",
   "execution_count": 271,
   "metadata": {
    "ExecuteTime": {
     "end_time": "2019-03-05T03:21:27.938990Z",
     "start_time": "2019-03-05T03:21:27.932797Z"
    }
   },
   "outputs": [],
   "source": [
    "origin_gdf = gpd.read_file(geo_file)"
   ]
  },
  {
   "cell_type": "code",
   "execution_count": 272,
   "metadata": {
    "ExecuteTime": {
     "end_time": "2019-03-05T03:21:30.417947Z",
     "start_time": "2019-03-05T03:21:30.414712Z"
    }
   },
   "outputs": [],
   "source": [
    "# follow schemas of geoMAC fire perimeters for easier merging later\n",
    "origin_gdf['perDatTime'] = str('2018-11-08T06:30PCT')"
   ]
  },
  {
   "cell_type": "code",
   "execution_count": 273,
   "metadata": {
    "ExecuteTime": {
     "end_time": "2019-03-05T03:21:37.878798Z",
     "start_time": "2019-03-05T03:21:37.856171Z"
    }
   },
   "outputs": [
    {
     "data": {
      "text/html": [
       "<div>\n",
       "<style>\n",
       "    .dataframe thead tr:only-child th {\n",
       "        text-align: right;\n",
       "    }\n",
       "\n",
       "    .dataframe thead th {\n",
       "        text-align: left;\n",
       "    }\n",
       "\n",
       "    .dataframe tbody tr th {\n",
       "        vertical-align: top;\n",
       "    }\n",
       "</style>\n",
       "<table border=\"1\" class=\"dataframe\">\n",
       "  <thead>\n",
       "    <tr style=\"text-align: right;\">\n",
       "      <th></th>\n",
       "      <th>latitude</th>\n",
       "      <th>longitude</th>\n",
       "      <th>acres</th>\n",
       "      <th>gacc</th>\n",
       "      <th>hotlink</th>\n",
       "      <th>state</th>\n",
       "      <th>status</th>\n",
       "      <th>firecause</th>\n",
       "      <th>percentcon</th>\n",
       "      <th>uniquefire</th>\n",
       "      <th>...</th>\n",
       "      <th>incidentna</th>\n",
       "      <th>irwinid</th>\n",
       "      <th>fireyear</th>\n",
       "      <th>poolandown</th>\n",
       "      <th>pooownerun</th>\n",
       "      <th>incidentty</th>\n",
       "      <th>pooprotect</th>\n",
       "      <th>perimexist</th>\n",
       "      <th>geometry</th>\n",
       "      <th>perDatTime</th>\n",
       "    </tr>\n",
       "  </thead>\n",
       "  <tbody>\n",
       "    <tr>\n",
       "      <th>0</th>\n",
       "      <td>39.82</td>\n",
       "      <td>-121.44</td>\n",
       "      <td>153336.0</td>\n",
       "      <td>ONCC</td>\n",
       "      <td>http://www.nifc.gov/fireInfo/nfn.htm</td>\n",
       "      <td>CA</td>\n",
       "      <td>F</td>\n",
       "      <td>Unknown</td>\n",
       "      <td>100</td>\n",
       "      <td>2018-CABTU-016737</td>\n",
       "      <td>...</td>\n",
       "      <td>CAMP</td>\n",
       "      <td>{75E64DB8-9B75-4A68-BEDD-67CC62658E38}</td>\n",
       "      <td>2018</td>\n",
       "      <td>USFS</td>\n",
       "      <td>CAPNF</td>\n",
       "      <td>WF</td>\n",
       "      <td>CDF</td>\n",
       "      <td>Y</td>\n",
       "      <td>POLYGON ((-13518262.95407242 4839819.542282384...</td>\n",
       "      <td>2018-11-08T06:30PCT</td>\n",
       "    </tr>\n",
       "  </tbody>\n",
       "</table>\n",
       "<p>1 rows × 21 columns</p>\n",
       "</div>"
      ],
      "text/plain": [
       "   latitude  longitude     acres  gacc                               hotlink  \\\n",
       "0     39.82    -121.44  153336.0  ONCC  http://www.nifc.gov/fireInfo/nfn.htm   \n",
       "\n",
       "  state status firecause  percentcon         uniquefire         ...           \\\n",
       "0    CA      F   Unknown         100  2018-CABTU-016737         ...            \n",
       "\n",
       "  incidentna                                 irwinid fireyear  poolandown  \\\n",
       "0       CAMP  {75E64DB8-9B75-4A68-BEDD-67CC62658E38}     2018        USFS   \n",
       "\n",
       "  pooownerun incidentty pooprotect perimexist  \\\n",
       "0      CAPNF         WF        CDF          Y   \n",
       "\n",
       "                                            geometry           perDatTime  \n",
       "0  POLYGON ((-13518262.95407242 4839819.542282384...  2018-11-08T06:30PCT  \n",
       "\n",
       "[1 rows x 21 columns]"
      ]
     },
     "execution_count": 273,
     "metadata": {},
     "output_type": "execute_result"
    }
   ],
   "source": [
    "origin_gdf.head()"
   ]
  },
  {
   "cell_type": "code",
   "execution_count": 274,
   "metadata": {
    "ExecuteTime": {
     "end_time": "2019-03-05T03:22:02.759830Z",
     "start_time": "2019-03-05T03:22:02.634308Z"
    }
   },
   "outputs": [],
   "source": [
    "outfile = 'camp_fire_origin_perimeter.csv'\n",
    "if os.path.exists(outfile):\n",
    "    !rm {outfile}"
   ]
  },
  {
   "cell_type": "code",
   "execution_count": 275,
   "metadata": {
    "ExecuteTime": {
     "end_time": "2019-03-05T03:22:03.985171Z",
     "start_time": "2019-03-05T03:22:03.981134Z"
    }
   },
   "outputs": [],
   "source": [
    "origin_gdf.to_csv(outfile, index=False)"
   ]
  },
  {
   "cell_type": "code",
   "execution_count": 276,
   "metadata": {
    "ExecuteTime": {
     "end_time": "2019-03-05T03:22:06.615878Z",
     "start_time": "2019-03-05T03:22:06.491988Z"
    }
   },
   "outputs": [
    {
     "name": "stdout",
     "output_type": "stream",
     "text": [
      "latitude,longitude,acres,gacc,hotlink,state,status,firecause,percentcon,uniquefire,poorespons,incidentna,irwinid,fireyear,poolandown,pooownerun,incidentty,pooprotect,perimexist,geometry,perDatTime\r\n",
      "39.82,-121.44,153336.0,ONCC,http://www.nifc.gov/fireInfo/nfn.htm,CA,F,Unknown,100,2018-CABTU-016737,CABTU,CAMP,{75E64DB8-9B75-4A68-BEDD-67CC62658E38},2018,USFS,CAPNF,WF,CDF,Y,\"POLYGON ((-13518262.95407242 4839819.542282384, -13518264.76461519 4839782.68783762, -13518270.17880699 4839746.188321305, -13518279.14450619 4839710.395243736, -13518291.5753682 4839675.653311814, -13518307.35167703 4839642.297109338, -13518326.3214982 4839610.647874769, -13518348.30214196 4839581.010407538, -13518373.0819227 4839553.670132658, -13518400.42219758 4839528.890351919, -13518430.05966481 4839506.909708158, -13518461.70889938 4839487.939886989, -13518495.06510185 4839472.16357816, -13518529.80703378 4839459.732716149, -13518565.60011134 4839450.767016952, -13518602.09962766 4839445.352825155, -13518638.95407242 4839443.542282384, -13518675.80851719 4839445.352825155, -13518712.3080335 4839450.767016952, -13518748.10111107 4839459.732716149, -13518782.84304299 4839472.16357816, -13518816.19924547 4839487.939886989, -13518847.84848004 4839506.909708158, -13518877.48594727 4839528.890351919, -13518904.82622215 4839553.670132658, -13518929.60600289 4839581.010407538, -13518951.58664665 4839610.647874769, -13518970.55646782 4839642.297109338, -13518986.33277665 4839675.653311814, -13518998.76363866 4839710.395243736, -13519007.72933785 4839746.188321305, -13519013.14352965 4839782.68783762, -13519014.95407242 4839819.542282384, -13519013.14352965 4839856.396727148, -13519007.72933785 4839892.896243462, -13518998.76363866 4839928.689321032, -13518986.33277665 4839963.431252954, -13518970.55646782 4839996.78745543, -13518951.58664665 4840028.436689999, -13518929.60600289 4840058.07415723, -13518904.82622215 4840085.41443211, -13518877.48594727 4840110.194212848, -13518847.84848004 4840132.17485661, -13518816.19924547 4840151.144677779, -13518782.84304299 4840166.920986608, -13518748.10111107 4840179.351848619, -13518712.3080335 4840188.317547816, -13518675.80851719 4840193.731739612, -13518638.95407242 4840195.542282384, -13518602.09962766 4840193.731739612, -13518565.60011134 4840188.317547816, -13518529.80703378 4840179.351848619, -13518495.06510185 4840166.920986608, -13518461.70889938 4840151.144677779, -13518430.05966481 4840132.17485661, -13518400.42219758 4840110.194212848, -13518373.0819227 4840085.41443211, -13518348.30214196 4840058.07415723, -13518326.3214982 4840028.436689999, -13518307.35167703 4839996.78745543, -13518291.5753682 4839963.431252954, -13518279.14450619 4839928.689321032, -13518270.17880699 4839892.896243462, -13518264.76461519 4839856.396727148, -13518262.95407242 4839819.542282384))\",2018-11-08T06:30PCT\r\n"
     ]
    }
   ],
   "source": [
    "!head {outfile}"
   ]
  },
  {
   "cell_type": "markdown",
   "metadata": {},
   "source": [
    "Weird: despite projecting back to WGS84 without error message, values in the geometry column are still webb mercator 3857...."
   ]
  },
  {
   "cell_type": "code",
   "execution_count": 29,
   "metadata": {
    "ExecuteTime": {
     "end_time": "2019-03-05T00:52:13.177131Z",
     "start_time": "2019-03-05T00:52:13.171664Z"
    }
   },
   "outputs": [
    {
     "data": {
      "text/plain": [
       "'(latitude DOUBLE, longitude DOUBLE, acres DOUBLE, gacc TEXT, hotlink TEXT, state TEXT, status TEXT, firecause TEXT, reportdate DATE, percentcon INT, uniquefire TEXT, firediscov DATE, complexpar TEXT, poorespons TEXT, incidentna TEXT, irwinid TEXT, fireoutdat DATE, datecurren DATE, fireyear INT, poolandown TEXT, pooownerun TEXT, incidentty TEXT, mergeid TEXT, containmen DATE, pooprotect TEXT, complexnam TEXT, perimexist TEXT, irwinmodif DATE, invalid TEXT, omnisci_geo GEOMETRY(POLYGON,3857), perDatTime TIMESTAMP)'"
      ]
     },
     "execution_count": 29,
     "metadata": {},
     "output_type": "execute_result"
    }
   ],
   "source": [
    "\n",
    "\n",
    "ddl = '('\n",
    "for col_name, col_type in zip(col_names, col_types):\n",
    "    if col_type == 'STR':\n",
    "        col_type = 'TEXT'\n",
    "    if col_type == 'POINT':\n",
    "        col_type = \"POLYGON\"\n",
    "    ddl += f'{col_name} {col_type}, '\n",
    "ddl += 'perDatTime TIMESTAMP'\n",
    "ddl = ddl + ')'\n",
    "ddl"
   ]
  },
  {
   "cell_type": "code",
   "execution_count": 30,
   "metadata": {
    "ExecuteTime": {
     "end_time": "2019-03-05T00:52:19.583759Z",
     "start_time": "2019-03-05T00:52:19.508426Z"
    }
   },
   "outputs": [
    {
     "name": "stdout",
     "output_type": "stream",
     "text": [
      "Executing query: DROP TABLE IF EXISTS fire_camp_approx_origin\n"
     ]
    },
    {
     "data": {
      "text/plain": [
       "<pymapd.cursor.Cursor at 0x7f81d3700ef0>"
      ]
     },
     "execution_count": 30,
     "metadata": {},
     "output_type": "execute_result"
    }
   ],
   "source": [
    "table_name = 'fire_camp_approx_origin'\n",
    "mapdql(f\"DROP TABLE IF EXISTS {table_name}\")"
   ]
  },
  {
   "cell_type": "code",
   "execution_count": 31,
   "metadata": {
    "ExecuteTime": {
     "end_time": "2019-03-05T00:52:22.034739Z",
     "start_time": "2019-03-05T00:52:21.972080Z"
    },
    "scrolled": true
   },
   "outputs": [
    {
     "name": "stdout",
     "output_type": "stream",
     "text": [
      "Executing query: CREATE TABLE fire_camp_approx_origin (latitude DOUBLE, longitude DOUBLE, acres DOUBLE, gacc TEXT, hotlink TEXT, state TEXT, status TEXT, firecause TEXT, reportdate DATE, percentcon INT, uniquefire TEXT, firediscov DATE, complexpar TEXT, poorespons TEXT, incidentna TEXT, irwinid TEXT, fireoutdat DATE, datecurren DATE, fireyear INT, poolandown TEXT, pooownerun TEXT, incidentty TEXT, mergeid TEXT, containmen DATE, pooprotect TEXT, complexnam TEXT, perimexist TEXT, irwinmodif DATE, invalid TEXT, omnisci_geo GEOMETRY(POLYGON,3857), perDatTime TIMESTAMP)\n"
     ]
    },
    {
     "data": {
      "text/plain": [
       "<pymapd.cursor.Cursor at 0x7f81d3678cf8>"
      ]
     },
     "execution_count": 31,
     "metadata": {},
     "output_type": "execute_result"
    }
   ],
   "source": [
    "mapdql(f\"CREATE TABLE {table_name} {ddl}\")"
   ]
  },
  {
   "cell_type": "code",
   "execution_count": 32,
   "metadata": {
    "ExecuteTime": {
     "end_time": "2019-03-05T00:52:25.695458Z",
     "start_time": "2019-03-05T00:52:25.680363Z"
    }
   },
   "outputs": [],
   "source": [
    "cwd_list = !pwd\n",
    "cwd = cwd_list[0]\n",
    "fullpath = os.path.join(cwd, outfile)"
   ]
  },
  {
   "cell_type": "code",
   "execution_count": 33,
   "metadata": {
    "ExecuteTime": {
     "end_time": "2019-03-05T00:52:29.672641Z",
     "start_time": "2019-03-05T00:52:27.130384Z"
    }
   },
   "outputs": [
    {
     "name": "stdout",
     "output_type": "stream",
     "text": [
      "Executing query: COPY fire_camp_approx_origin FROM '/home/mapdadmin/demo/fire/camp_fire_origin_perimeter.csv' \n"
     ]
    },
    {
     "data": {
      "text/plain": [
       "<pymapd.cursor.Cursor at 0x7f81d362e5c0>"
      ]
     },
     "execution_count": 33,
     "metadata": {},
     "output_type": "execute_result"
    }
   ],
   "source": [
    "result = mapdql(f\"COPY {table_name} FROM '{fullpath}' \")\n",
    "result"
   ]
  },
  {
   "cell_type": "code",
   "execution_count": 34,
   "metadata": {
    "ExecuteTime": {
     "end_time": "2019-03-05T00:52:29.843801Z",
     "start_time": "2019-03-05T00:52:29.840096Z"
    }
   },
   "outputs": [
    {
     "data": {
      "text/plain": [
       "('Loaded: 1 recs, Rejected: 0 recs in 1.647000 secs',)"
      ]
     },
     "execution_count": 34,
     "metadata": {},
     "output_type": "execute_result"
    }
   ],
   "source": [
    "result.fetchone()"
   ]
  },
  {
   "cell_type": "code",
   "execution_count": 210,
   "metadata": {
    "ExecuteTime": {
     "end_time": "2019-03-04T04:09:16.989556Z",
     "start_time": "2019-03-04T04:09:16.983177Z"
    }
   },
   "outputs": [
    {
     "data": {
      "text/plain": [
       "True"
      ]
     },
     "execution_count": 210,
     "metadata": {},
     "output_type": "execute_result"
    }
   ],
   "source": [
    "table_name in con.get_tables()"
   ]
  }
 ],
 "metadata": {
  "kernelspec": {
   "display_name": "Python 3",
   "language": "python",
   "name": "python3"
  },
  "language_info": {
   "codemirror_mode": {
    "name": "ipython",
    "version": 3
   },
   "file_extension": ".py",
   "mimetype": "text/x-python",
   "name": "python",
   "nbconvert_exporter": "python",
   "pygments_lexer": "ipython3",
   "version": "3.6.7"
  },
  "varInspector": {
   "cols": {
    "lenName": 16,
    "lenType": 16,
    "lenVar": 40
   },
   "kernels_config": {
    "python": {
     "delete_cmd_postfix": "",
     "delete_cmd_prefix": "del ",
     "library": "var_list.py",
     "varRefreshCmd": "print(var_dic_list())"
    },
    "r": {
     "delete_cmd_postfix": ") ",
     "delete_cmd_prefix": "rm(",
     "library": "var_list.r",
     "varRefreshCmd": "cat(var_dic_list()) "
    }
   },
   "types_to_exclude": [
    "module",
    "function",
    "builtin_function_or_method",
    "instance",
    "_Feature"
   ],
   "window_display": false
  }
 },
 "nbformat": 4,
 "nbformat_minor": 2
}
