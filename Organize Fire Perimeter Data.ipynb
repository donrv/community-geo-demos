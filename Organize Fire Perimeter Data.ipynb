{
 "cells": [
  {
   "cell_type": "markdown",
   "metadata": {},
   "source": [
    "## Organize GeoMAC Fire Perimeter Data"
   ]
  },
  {
   "cell_type": "markdown",
   "metadata": {},
   "source": [
    "Fire perimeter data for all US fires is available from the interagency fire coordination center known as \"GeoMAC\""
   ]
  },
  {
   "cell_type": "markdown",
   "metadata": {},
   "source": [
    "https://rmgsc.cr.usgs.gov/outgoing/GeoMAC/historic_fire_data/us_historic_fire_perims_dd83_METADATA.html"
   ]
  },
  {
   "cell_type": "markdown",
   "metadata": {},
   "source": [
    "Unfortunately, these datasets are split by time stamp, but do not have identical schema.  Some were evidently opened in ArcGIS, which automatically creates additional columns.  Others were not opened or not saved after opening, and have fewer columns."
   ]
  },
  {
   "cell_type": "markdown",
   "metadata": {},
   "source": [
    "If an identical schema was present, we could load and append all files directly from their remote URLs.  However, given the differences, we elected to open each in geopandas, and copy over into a common record set only the core data.  Also, date times were not provided in ISO format as required by OmniSci. Therefore we also cleaned those up and dropped any \"NaT\" (not a time) records."
   ]
  },
  {
   "cell_type": "code",
   "execution_count": 97,
   "metadata": {
    "ExecuteTime": {
     "end_time": "2019-03-03T23:48:07.783481Z",
     "start_time": "2019-03-03T23:48:07.780561Z"
    }
   },
   "outputs": [],
   "source": [
    "import os, glob"
   ]
  },
  {
   "cell_type": "code",
   "execution_count": 98,
   "metadata": {
    "ExecuteTime": {
     "end_time": "2019-03-03T23:48:09.280412Z",
     "start_time": "2019-03-03T23:48:08.795712Z"
    },
    "scrolled": true
   },
   "outputs": [
    {
     "name": "stdout",
     "output_type": "stream",
     "text": [
      "Using pymapd version 0.7.1\n",
      "OmniSci connection established on python global variable \"con\"\n",
      "Using CPU memory (/dev/shm) for temp geo files\n",
      "df: /dev/shm/csvs: No such file or directory\n"
     ]
    }
   ],
   "source": [
    "%run ../omnigeo.ipynb"
   ]
  },
  {
   "cell_type": "markdown",
   "metadata": {},
   "source": [
    "### All GeoMAC US Fires 2010-2017 inclusive"
   ]
  },
  {
   "cell_type": "code",
   "execution_count": 58,
   "metadata": {
    "ExecuteTime": {
     "end_time": "2019-03-03T21:48:02.826391Z",
     "start_time": "2019-03-03T21:48:02.823839Z"
    }
   },
   "outputs": [],
   "source": [
    "all_fires = 'https://rmgsc.cr.usgs.gov/outgoing/GeoMAC/historic_fire_data/US_HIST_FIRE_PERIMTRS_DD83.zip'\n",
    "table_name = 'fire_perimeters_all_final_us_2010_2017'"
   ]
  },
  {
   "cell_type": "code",
   "execution_count": 27,
   "metadata": {
    "ExecuteTime": {
     "end_time": "2019-03-03T21:32:54.864873Z",
     "start_time": "2019-03-03T21:32:54.860968Z"
    }
   },
   "outputs": [
    {
     "name": "stdout",
     "output_type": "stream",
     "text": [
      "Executing query: COPY fire_perimeters_all_final_us_2010_2017 FROM 'https://rmgsc.cr.usgs.gov/outgoing/GeoMAC/historic_fire_data/US_HIST_FIRE_PERIMTRS_DD83.zip' WITH (GEO='True');\n"
     ]
    }
   ],
   "source": [
    "q = f\"COPY {table_name} FROM '{all_fires}' WITH (GEO='True');\"\n",
    "result = mapdql(q)    "
   ]
  },
  {
   "cell_type": "code",
   "execution_count": 29,
   "metadata": {
    "ExecuteTime": {
     "end_time": "2019-03-03T21:33:24.213397Z",
     "start_time": "2019-03-03T21:33:24.208554Z"
    },
    "scrolled": true
   },
   "outputs": [
    {
     "data": {
      "text/plain": [
       "[ColumnDetails(name='year_', type='STR', nullable=True, precision=0, scale=0, comp_param=32),\n",
       " ColumnDetails(name='acres', type='DOUBLE', nullable=True, precision=0, scale=0, comp_param=0),\n",
       " ColumnDetails(name='fire_name', type='STR', nullable=True, precision=0, scale=0, comp_param=32),\n",
       " ColumnDetails(name='unit_id', type='STR', nullable=True, precision=0, scale=0, comp_param=32),\n",
       " ColumnDetails(name='irwinid', type='STR', nullable=True, precision=0, scale=0, comp_param=32),\n",
       " ColumnDetails(name='fire_num', type='STR', nullable=True, precision=0, scale=0, comp_param=32),\n",
       " ColumnDetails(name='st_area_sh', type='DOUBLE', nullable=True, precision=0, scale=0, comp_param=0),\n",
       " ColumnDetails(name='st_length_', type='DOUBLE', nullable=True, precision=0, scale=0, comp_param=0),\n",
       " ColumnDetails(name='omnisci_geo', type='MULTIPOLYGON', nullable=True, precision=23, scale=4326, comp_param=32)]"
      ]
     },
     "execution_count": 29,
     "metadata": {},
     "output_type": "execute_result"
    }
   ],
   "source": [
    "con.get_table_details(table_name)"
   ]
  },
  {
   "cell_type": "code",
   "execution_count": 83,
   "metadata": {
    "ExecuteTime": {
     "end_time": "2019-03-03T21:53:27.097878Z",
     "start_time": "2019-03-03T21:53:26.863229Z"
    }
   },
   "outputs": [
    {
     "name": "stdout",
     "output_type": "stream",
     "text": [
      "SELECT fire_name, year_ as fire_year, round(acres) as acres FROM fire_perimeters_all_final_us_2010_2017 GROUP BY fire_name, year_, acres ORDER BY year_ DESC, acres DESC\n"
     ]
    },
    {
     "data": {
      "text/html": [
       "<div>\n",
       "<style>\n",
       "    .dataframe thead tr:only-child th {\n",
       "        text-align: right;\n",
       "    }\n",
       "\n",
       "    .dataframe thead th {\n",
       "        text-align: left;\n",
       "    }\n",
       "\n",
       "    .dataframe tbody tr th {\n",
       "        vertical-align: top;\n",
       "    }\n",
       "</style>\n",
       "<table border=\"1\" class=\"dataframe\">\n",
       "  <thead>\n",
       "    <tr style=\"text-align: right;\">\n",
       "      <th></th>\n",
       "      <th>fire_name</th>\n",
       "      <th>fire_year</th>\n",
       "      <th>acres</th>\n",
       "    </tr>\n",
       "  </thead>\n",
       "  <tbody>\n",
       "    <tr>\n",
       "      <th>0</th>\n",
       "      <td>Jungo</td>\n",
       "      <td>2018</td>\n",
       "      <td>519.0</td>\n",
       "    </tr>\n",
       "    <tr>\n",
       "      <th>1</th>\n",
       "      <td>OKS - Starbuck</td>\n",
       "      <td>2017</td>\n",
       "      <td>662593.0</td>\n",
       "    </tr>\n",
       "    <tr>\n",
       "      <th>2</th>\n",
       "      <td>THOMAS</td>\n",
       "      <td>2017</td>\n",
       "      <td>281894.0</td>\n",
       "    </tr>\n",
       "    <tr>\n",
       "      <th>3</th>\n",
       "      <td>Bridge Coulee</td>\n",
       "      <td>2017</td>\n",
       "      <td>270723.0</td>\n",
       "    </tr>\n",
       "    <tr>\n",
       "      <th>4</th>\n",
       "      <td>WEST MIMS</td>\n",
       "      <td>2017</td>\n",
       "      <td>206743.0</td>\n",
       "    </tr>\n",
       "    <tr>\n",
       "      <th>5</th>\n",
       "      <td>Roosters Comb</td>\n",
       "      <td>2017</td>\n",
       "      <td>204879.0</td>\n",
       "    </tr>\n",
       "    <tr>\n",
       "      <th>6</th>\n",
       "      <td>Chetco Bar</td>\n",
       "      <td>2017</td>\n",
       "      <td>191125.0</td>\n",
       "    </tr>\n",
       "    <tr>\n",
       "      <th>7</th>\n",
       "      <td>Rice Ridge</td>\n",
       "      <td>2017</td>\n",
       "      <td>160187.0</td>\n",
       "    </tr>\n",
       "    <tr>\n",
       "      <th>8</th>\n",
       "      <td>Snowstorm</td>\n",
       "      <td>2017</td>\n",
       "      <td>154454.0</td>\n",
       "    </tr>\n",
       "    <tr>\n",
       "      <th>9</th>\n",
       "      <td>Meyers</td>\n",
       "      <td>2017</td>\n",
       "      <td>128462.0</td>\n",
       "    </tr>\n",
       "    <tr>\n",
       "      <th>10</th>\n",
       "      <td>DIAMOND CREEK</td>\n",
       "      <td>2017</td>\n",
       "      <td>127638.0</td>\n",
       "    </tr>\n",
       "    <tr>\n",
       "      <th>11</th>\n",
       "      <td>Truckee</td>\n",
       "      <td>2017</td>\n",
       "      <td>98954.0</td>\n",
       "    </tr>\n",
       "    <tr>\n",
       "      <th>12</th>\n",
       "      <td>Sartin Draw</td>\n",
       "      <td>2017</td>\n",
       "      <td>94621.0</td>\n",
       "    </tr>\n",
       "    <tr>\n",
       "      <th>13</th>\n",
       "      <td>Tohakum 2</td>\n",
       "      <td>2017</td>\n",
       "      <td>94221.0</td>\n",
       "    </tr>\n",
       "    <tr>\n",
       "      <th>14</th>\n",
       "      <td>Campbell River</td>\n",
       "      <td>2017</td>\n",
       "      <td>93520.0</td>\n",
       "    </tr>\n",
       "    <tr>\n",
       "      <th>15</th>\n",
       "      <td>OAK</td>\n",
       "      <td>2017</td>\n",
       "      <td>91058.0</td>\n",
       "    </tr>\n",
       "    <tr>\n",
       "      <th>16</th>\n",
       "      <td>Tidwell</td>\n",
       "      <td>2017</td>\n",
       "      <td>90957.0</td>\n",
       "    </tr>\n",
       "    <tr>\n",
       "      <th>17</th>\n",
       "      <td>Highline</td>\n",
       "      <td>2017</td>\n",
       "      <td>84456.0</td>\n",
       "    </tr>\n",
       "    <tr>\n",
       "      <th>18</th>\n",
       "      <td>Long Valley</td>\n",
       "      <td>2017</td>\n",
       "      <td>83658.0</td>\n",
       "    </tr>\n",
       "    <tr>\n",
       "      <th>19</th>\n",
       "      <td>DETWILER</td>\n",
       "      <td>2017</td>\n",
       "      <td>81826.0</td>\n",
       "    </tr>\n",
       "    <tr>\n",
       "      <th>20</th>\n",
       "      <td>White Mountain Creek</td>\n",
       "      <td>2017</td>\n",
       "      <td>78858.0</td>\n",
       "    </tr>\n",
       "    <tr>\n",
       "      <th>21</th>\n",
       "      <td>Little Hogback</td>\n",
       "      <td>2017</td>\n",
       "      <td>72676.0</td>\n",
       "    </tr>\n",
       "    <tr>\n",
       "      <th>22</th>\n",
       "      <td>Brianhead</td>\n",
       "      <td>2017</td>\n",
       "      <td>71693.0</td>\n",
       "    </tr>\n",
       "    <tr>\n",
       "      <th>23</th>\n",
       "      <td>OKS - 283</td>\n",
       "      <td>2017</td>\n",
       "      <td>69405.0</td>\n",
       "    </tr>\n",
       "    <tr>\n",
       "      <th>24</th>\n",
       "      <td>NENA SPRINGS</td>\n",
       "      <td>2017</td>\n",
       "      <td>68028.0</td>\n",
       "    </tr>\n",
       "    <tr>\n",
       "      <th>25</th>\n",
       "      <td>WALLOW</td>\n",
       "      <td>2017</td>\n",
       "      <td>65326.0</td>\n",
       "    </tr>\n",
       "    <tr>\n",
       "      <th>26</th>\n",
       "      <td>Powerline</td>\n",
       "      <td>2017</td>\n",
       "      <td>55761.0</td>\n",
       "    </tr>\n",
       "    <tr>\n",
       "      <th>27</th>\n",
       "      <td>Dry Gulch</td>\n",
       "      <td>2017</td>\n",
       "      <td>55329.0</td>\n",
       "    </tr>\n",
       "    <tr>\n",
       "      <th>28</th>\n",
       "      <td>Nowitna</td>\n",
       "      <td>2017</td>\n",
       "      <td>55254.0</td>\n",
       "    </tr>\n",
       "    <tr>\n",
       "      <th>29</th>\n",
       "      <td>Legion Lake</td>\n",
       "      <td>2017</td>\n",
       "      <td>54023.0</td>\n",
       "    </tr>\n",
       "    <tr>\n",
       "      <th>...</th>\n",
       "      <td>...</td>\n",
       "      <td>...</td>\n",
       "      <td>...</td>\n",
       "    </tr>\n",
       "    <tr>\n",
       "      <th>20747</th>\n",
       "      <td>CONIFER</td>\n",
       "      <td>2000</td>\n",
       "      <td>5.0</td>\n",
       "    </tr>\n",
       "    <tr>\n",
       "      <th>20748</th>\n",
       "      <td>ELVIA</td>\n",
       "      <td>2000</td>\n",
       "      <td>5.0</td>\n",
       "    </tr>\n",
       "    <tr>\n",
       "      <th>20749</th>\n",
       "      <td>NaN</td>\n",
       "      <td>2000</td>\n",
       "      <td>5.0</td>\n",
       "    </tr>\n",
       "    <tr>\n",
       "      <th>20750</th>\n",
       "      <td>QUARTZ</td>\n",
       "      <td>2000</td>\n",
       "      <td>5.0</td>\n",
       "    </tr>\n",
       "    <tr>\n",
       "      <th>20751</th>\n",
       "      <td>Silver Creek</td>\n",
       "      <td>2000</td>\n",
       "      <td>4.0</td>\n",
       "    </tr>\n",
       "    <tr>\n",
       "      <th>20752</th>\n",
       "      <td>OBERLIN</td>\n",
       "      <td>2000</td>\n",
       "      <td>4.0</td>\n",
       "    </tr>\n",
       "    <tr>\n",
       "      <th>20753</th>\n",
       "      <td>POST DRAW</td>\n",
       "      <td>2000</td>\n",
       "      <td>4.0</td>\n",
       "    </tr>\n",
       "    <tr>\n",
       "      <th>20754</th>\n",
       "      <td>SHASTA</td>\n",
       "      <td>2000</td>\n",
       "      <td>4.0</td>\n",
       "    </tr>\n",
       "    <tr>\n",
       "      <th>20755</th>\n",
       "      <td>Flatrock</td>\n",
       "      <td>2000</td>\n",
       "      <td>3.0</td>\n",
       "    </tr>\n",
       "    <tr>\n",
       "      <th>20756</th>\n",
       "      <td>PINE</td>\n",
       "      <td>2000</td>\n",
       "      <td>3.0</td>\n",
       "    </tr>\n",
       "    <tr>\n",
       "      <th>20757</th>\n",
       "      <td>PRICE</td>\n",
       "      <td>2000</td>\n",
       "      <td>3.0</td>\n",
       "    </tr>\n",
       "    <tr>\n",
       "      <th>20758</th>\n",
       "      <td>Corbett Cabin</td>\n",
       "      <td>2000</td>\n",
       "      <td>2.0</td>\n",
       "    </tr>\n",
       "    <tr>\n",
       "      <th>20759</th>\n",
       "      <td>CANAL</td>\n",
       "      <td>2000</td>\n",
       "      <td>2.0</td>\n",
       "    </tr>\n",
       "    <tr>\n",
       "      <th>20760</th>\n",
       "      <td>Borrow Pit</td>\n",
       "      <td>2000</td>\n",
       "      <td>2.0</td>\n",
       "    </tr>\n",
       "    <tr>\n",
       "      <th>20761</th>\n",
       "      <td>NaN</td>\n",
       "      <td>2000</td>\n",
       "      <td>2.0</td>\n",
       "    </tr>\n",
       "    <tr>\n",
       "      <th>20762</th>\n",
       "      <td>HAWKINSVILLE</td>\n",
       "      <td>2000</td>\n",
       "      <td>2.0</td>\n",
       "    </tr>\n",
       "    <tr>\n",
       "      <th>20763</th>\n",
       "      <td>OCONNER</td>\n",
       "      <td>2000</td>\n",
       "      <td>2.0</td>\n",
       "    </tr>\n",
       "    <tr>\n",
       "      <th>20764</th>\n",
       "      <td>LOMPOC</td>\n",
       "      <td>2000</td>\n",
       "      <td>1.0</td>\n",
       "    </tr>\n",
       "    <tr>\n",
       "      <th>20765</th>\n",
       "      <td>ROCK PILE</td>\n",
       "      <td>2000</td>\n",
       "      <td>1.0</td>\n",
       "    </tr>\n",
       "    <tr>\n",
       "      <th>20766</th>\n",
       "      <td>Slide Mountain</td>\n",
       "      <td>2000</td>\n",
       "      <td>1.0</td>\n",
       "    </tr>\n",
       "    <tr>\n",
       "      <th>20767</th>\n",
       "      <td>Mesa</td>\n",
       "      <td>2000</td>\n",
       "      <td>1.0</td>\n",
       "    </tr>\n",
       "    <tr>\n",
       "      <th>20768</th>\n",
       "      <td>Crawford Mtn</td>\n",
       "      <td>2000</td>\n",
       "      <td>1.0</td>\n",
       "    </tr>\n",
       "    <tr>\n",
       "      <th>20769</th>\n",
       "      <td>MINATAUR</td>\n",
       "      <td>2000</td>\n",
       "      <td>1.0</td>\n",
       "    </tr>\n",
       "    <tr>\n",
       "      <th>20770</th>\n",
       "      <td>High Meadow</td>\n",
       "      <td>2000</td>\n",
       "      <td>0.0</td>\n",
       "    </tr>\n",
       "    <tr>\n",
       "      <th>20771</th>\n",
       "      <td>KORINA</td>\n",
       "      <td>2000</td>\n",
       "      <td>0.0</td>\n",
       "    </tr>\n",
       "    <tr>\n",
       "      <th>20772</th>\n",
       "      <td>COAST_GUARD</td>\n",
       "      <td>2000</td>\n",
       "      <td>0.0</td>\n",
       "    </tr>\n",
       "    <tr>\n",
       "      <th>20773</th>\n",
       "      <td>WYDOT</td>\n",
       "      <td>2000</td>\n",
       "      <td>0.0</td>\n",
       "    </tr>\n",
       "    <tr>\n",
       "      <th>20774</th>\n",
       "      <td>BRADBURY (SPOT)</td>\n",
       "      <td>2000</td>\n",
       "      <td>0.0</td>\n",
       "    </tr>\n",
       "    <tr>\n",
       "      <th>20775</th>\n",
       "      <td>Bobcat</td>\n",
       "      <td>2000</td>\n",
       "      <td>0.0</td>\n",
       "    </tr>\n",
       "    <tr>\n",
       "      <th>20776</th>\n",
       "      <td>NEWTON LAKE</td>\n",
       "      <td>2000</td>\n",
       "      <td>0.0</td>\n",
       "    </tr>\n",
       "  </tbody>\n",
       "</table>\n",
       "<p>20777 rows × 3 columns</p>\n",
       "</div>"
      ],
      "text/plain": [
       "                  fire_name fire_year     acres\n",
       "0                     Jungo      2018     519.0\n",
       "1            OKS - Starbuck      2017  662593.0\n",
       "2                    THOMAS      2017  281894.0\n",
       "3             Bridge Coulee      2017  270723.0\n",
       "4                 WEST MIMS      2017  206743.0\n",
       "5             Roosters Comb      2017  204879.0\n",
       "6                Chetco Bar      2017  191125.0\n",
       "7                Rice Ridge      2017  160187.0\n",
       "8                 Snowstorm      2017  154454.0\n",
       "9                    Meyers      2017  128462.0\n",
       "10            DIAMOND CREEK      2017  127638.0\n",
       "11                  Truckee      2017   98954.0\n",
       "12              Sartin Draw      2017   94621.0\n",
       "13                Tohakum 2      2017   94221.0\n",
       "14           Campbell River      2017   93520.0\n",
       "15                      OAK      2017   91058.0\n",
       "16                  Tidwell      2017   90957.0\n",
       "17                 Highline      2017   84456.0\n",
       "18              Long Valley      2017   83658.0\n",
       "19                 DETWILER      2017   81826.0\n",
       "20     White Mountain Creek      2017   78858.0\n",
       "21           Little Hogback      2017   72676.0\n",
       "22                Brianhead      2017   71693.0\n",
       "23                OKS - 283      2017   69405.0\n",
       "24             NENA SPRINGS      2017   68028.0\n",
       "25                   WALLOW      2017   65326.0\n",
       "26                Powerline      2017   55761.0\n",
       "27                Dry Gulch      2017   55329.0\n",
       "28                  Nowitna      2017   55254.0\n",
       "29              Legion Lake      2017   54023.0\n",
       "...                     ...       ...       ...\n",
       "20747               CONIFER      2000       5.0\n",
       "20748                 ELVIA      2000       5.0\n",
       "20749                   NaN      2000       5.0\n",
       "20750                QUARTZ      2000       5.0\n",
       "20751          Silver Creek      2000       4.0\n",
       "20752               OBERLIN      2000       4.0\n",
       "20753             POST DRAW      2000       4.0\n",
       "20754                SHASTA      2000       4.0\n",
       "20755              Flatrock      2000       3.0\n",
       "20756                  PINE      2000       3.0\n",
       "20757                 PRICE      2000       3.0\n",
       "20758         Corbett Cabin      2000       2.0\n",
       "20759                 CANAL      2000       2.0\n",
       "20760            Borrow Pit      2000       2.0\n",
       "20761                   NaN      2000       2.0\n",
       "20762          HAWKINSVILLE      2000       2.0\n",
       "20763               OCONNER      2000       2.0\n",
       "20764                LOMPOC      2000       1.0\n",
       "20765             ROCK PILE      2000       1.0\n",
       "20766        Slide Mountain      2000       1.0\n",
       "20767                  Mesa      2000       1.0\n",
       "20768          Crawford Mtn      2000       1.0\n",
       "20769              MINATAUR      2000       1.0\n",
       "20770           High Meadow      2000       0.0\n",
       "20771                KORINA      2000       0.0\n",
       "20772           COAST_GUARD      2000       0.0\n",
       "20773                 WYDOT      2000       0.0\n",
       "20774       BRADBURY (SPOT)      2000       0.0\n",
       "20775                Bobcat      2000       0.0\n",
       "20776           NEWTON LAKE      2000       0.0\n",
       "\n",
       "[20777 rows x 3 columns]"
      ]
     },
     "execution_count": 83,
     "metadata": {},
     "output_type": "execute_result"
    }
   ],
   "source": [
    "q = \"SELECT fire_name, year_ as fire_year, round(acres) as acres \"\n",
    "q += f'FROM {table_name} '\n",
    "q += \"GROUP BY fire_name, year_, acres \"\n",
    "q += \"ORDER BY year_ DESC, acres DESC\"\n",
    "print(q)\n",
    "df = con.select_ipc(q)\n",
    "df"
   ]
  },
  {
   "cell_type": "markdown",
   "metadata": {},
   "source": [
    "Conclusion: missing most of the interesting fires of late 2018..."
   ]
  },
  {
   "cell_type": "markdown",
   "metadata": {
    "ExecuteTime": {
     "end_time": "2019-03-03T21:53:53.112574Z",
     "start_time": "2019-03-03T21:53:53.110010Z"
    }
   },
   "source": [
    "geomac_points = 'https://rmgsc.cr.usgs.gov/outgoing/GeoMAC/historic_fire_data/2018_sit_rep_pts_dd83.zip'\n",
    "table_name = 'fire_us_sit_rep_pts_2018'"
   ]
  },
  {
   "cell_type": "code",
   "execution_count": 100,
   "metadata": {
    "ExecuteTime": {
     "end_time": "2019-03-03T23:49:54.212880Z",
     "start_time": "2019-03-03T23:49:54.208285Z"
    },
    "scrolled": true
   },
   "outputs": [
    {
     "name": "stdout",
     "output_type": "stream",
     "text": [
      "Table fire_us_sit_rep_pts_2018 already exists on server, drop first to override\n"
     ]
    }
   ],
   "source": [
    "if not table_name in con.get_tables():\n",
    "    q = f'COPY {table_name} '\n",
    "    q += f\"FROM '{geomac_points}' \" \n",
    "    q += \"WITH (GEO='True');\"\n",
    "    result = mapdql(q)\n",
    "else:\n",
    "    print(f'Table {table_name} already exists on server, drop first to override')"
   ]
  },
  {
   "cell_type": "markdown",
   "metadata": {},
   "source": [
    "#### All US FIres Final Perimeters by Year from USGS GeoMAC"
   ]
  },
  {
   "cell_type": "code",
   "execution_count": 101,
   "metadata": {
    "ExecuteTime": {
     "end_time": "2019-03-03T23:50:03.140507Z",
     "start_time": "2019-03-03T23:50:03.137616Z"
    }
   },
   "outputs": [],
   "source": [
    "fire_year = '2018'"
   ]
  },
  {
   "cell_type": "code",
   "execution_count": 102,
   "metadata": {
    "ExecuteTime": {
     "end_time": "2019-03-03T23:50:04.198226Z",
     "start_time": "2019-03-03T23:50:04.194237Z"
    }
   },
   "outputs": [],
   "source": [
    "def get_final_perimeters(year=fire_year, override=True):\n",
    "    table_name = f'fire_all_us_final_perims_{fire_year}'\n",
    "    override = True\n",
    "    if table_name in con.get_tables() and not override:\n",
    "        print(f'{table_name} already loaded')\n",
    "        print(f'Skipping {table_name} re-creation, set override if desired')\n",
    "    else:\n",
    "        if override:\n",
    "            mapdql(f'DROP TABLE {table_name}')\n",
    "        remote_shapefile_zip = f'https://rmgsc.cr.usgs.gov/outgoing/GeoMAC/{fire_year}_fire_data/current_year_all_states/{fire_year}_perimeters_dd83.zip'\n",
    "        q = f\"COPY {table_name} FROM '{remote_shapefile_zip}' WITH (GEO='True');\"\n",
    "        result = mapdql(q)    "
   ]
  },
  {
   "cell_type": "code",
   "execution_count": 103,
   "metadata": {
    "ExecuteTime": {
     "end_time": "2019-03-03T23:50:40.771923Z",
     "start_time": "2019-03-03T23:50:07.186141Z"
    },
    "scrolled": true
   },
   "outputs": [
    {
     "name": "stdout",
     "output_type": "stream",
     "text": [
      "Executing query: DROP TABLE fire_all_us_final_perims_2018\n",
      "Executing query: COPY fire_all_us_final_perims_2018 FROM 'https://rmgsc.cr.usgs.gov/outgoing/GeoMAC/2018_fire_data/current_year_all_states/2018_perimeters_dd83.zip' WITH (GEO='True');\n"
     ]
    }
   ],
   "source": [
    "get_final_perimeters()"
   ]
  },
  {
   "cell_type": "code",
   "execution_count": null,
   "metadata": {
    "ExecuteTime": {
     "end_time": "2019-03-03T20:29:24.779411Z",
     "start_time": "2019-03-03T20:28:47.290672Z"
    }
   },
   "outputs": [],
   "source": [
    "mapdql(f'SELECT * FROM {table_name}')\n",
    "df = pd.DataFrame(result.fetchall())\n",
    "df.head(3)"
   ]
  },
  {
   "cell_type": "markdown",
   "metadata": {},
   "source": [
    "#### Scrape Camp Fire Web Page to Get All Perimeters"
   ]
  },
  {
   "cell_type": "code",
   "execution_count": 104,
   "metadata": {
    "ExecuteTime": {
     "end_time": "2019-03-03T23:50:49.963334Z",
     "start_time": "2019-03-03T23:50:49.960458Z"
    }
   },
   "outputs": [],
   "source": [
    "fire_name = 'Camp' # title case\n",
    "fire_state = 'California' # full name, title case\n",
    "fire_year = '2018' # as a 4 character string"
   ]
  },
  {
   "cell_type": "markdown",
   "metadata": {},
   "source": [
    "Example URLs from GeoMAC as of Mar 2019"
   ]
  },
  {
   "cell_type": "code",
   "execution_count": 105,
   "metadata": {
    "ExecuteTime": {
     "end_time": "2019-03-03T23:50:52.514887Z",
     "start_time": "2019-03-03T23:50:52.512103Z"
    }
   },
   "outputs": [],
   "source": [
    "fire_page = 'https://rmgsc.cr.usgs.gov/outgoing/GeoMAC/2018_fire_data/California/Camp/'\n",
    "fire_page = 'https://rmgsc.cr.usgs.gov/outgoing/GeoMAC/2018_fire_data/California/Woolsey/'"
   ]
  },
  {
   "cell_type": "code",
   "execution_count": 106,
   "metadata": {
    "ExecuteTime": {
     "end_time": "2019-03-03T23:50:53.721590Z",
     "start_time": "2019-03-03T23:50:53.560270Z"
    }
   },
   "outputs": [],
   "source": [
    "import requests\n",
    "from bs4 import BeautifulSoup"
   ]
  },
  {
   "cell_type": "code",
   "execution_count": 107,
   "metadata": {
    "ExecuteTime": {
     "end_time": "2019-03-03T23:50:54.773693Z",
     "start_time": "2019-03-03T23:50:54.768726Z"
    }
   },
   "outputs": [],
   "source": [
    "def get_fire_perim_urls(year, state, firename):\n",
    "    #expects 4 digit year, full state name and fire name in title case\n",
    "    fire_page = f\"https://rmgsc.cr.usgs.gov/outgoing/GeoMAC/{year}_fire_data/{state}/{firename}/\"\n",
    "    response = requests.get(fire_page)\n",
    "    html = response.text\n",
    "    soup = BeautifulSoup(html)\n",
    "    urls = []\n",
    "    for a in soup.find_all('a', href=True):\n",
    "        if 'zip' in a['href']:\n",
    "            fullurl = 'https://rmgsc.cr.usgs.gov/' + a['href']\n",
    "            print (\"Found the URL: \\n\", fullurl)\n",
    "            urls.append(fullurl)\n",
    "    print(f'Found {len(urls)} fire perimeters')\n",
    "    return(urls)"
   ]
  },
  {
   "cell_type": "code",
   "execution_count": 108,
   "metadata": {
    "ExecuteTime": {
     "end_time": "2019-03-03T23:50:57.590794Z",
     "start_time": "2019-03-03T23:50:57.100934Z"
    }
   },
   "outputs": [
    {
     "name": "stdout",
     "output_type": "stream",
     "text": [
      "Found the URL: \n",
      " https://rmgsc.cr.usgs.gov//outgoing/GeoMAC/2018_fire_data/California/Camp/ca_camp_20181108_1754_dd83.zip\n",
      "Found the URL: \n",
      " https://rmgsc.cr.usgs.gov//outgoing/GeoMAC/2018_fire_data/California/Camp/ca_camp_20181109_0000_dd83.zip\n",
      "Found the URL: \n",
      " https://rmgsc.cr.usgs.gov//outgoing/GeoMAC/2018_fire_data/California/Camp/ca_camp_20181109_1902_dd83.zip\n",
      "Found the URL: \n",
      " https://rmgsc.cr.usgs.gov//outgoing/GeoMAC/2018_fire_data/California/Camp/ca_camp_20181109_2313_dd83.zip\n",
      "Found the URL: \n",
      " https://rmgsc.cr.usgs.gov//outgoing/GeoMAC/2018_fire_data/California/Camp/ca_camp_20181110_0104_dd83.zip\n",
      "Found the URL: \n",
      " https://rmgsc.cr.usgs.gov//outgoing/GeoMAC/2018_fire_data/California/Camp/ca_camp_20181110_2110_dd83.zip\n",
      "Found the URL: \n",
      " https://rmgsc.cr.usgs.gov//outgoing/GeoMAC/2018_fire_data/California/Camp/ca_camp_20181111_1848_dd83.zip\n",
      "Found the URL: \n",
      " https://rmgsc.cr.usgs.gov//outgoing/GeoMAC/2018_fire_data/California/Camp/ca_camp_20181112_0031_dd83.zip\n",
      "Found the URL: \n",
      " https://rmgsc.cr.usgs.gov//outgoing/GeoMAC/2018_fire_data/California/Camp/ca_camp_20181112_2205_dd83.zip\n",
      "Found the URL: \n",
      " https://rmgsc.cr.usgs.gov//outgoing/GeoMAC/2018_fire_data/California/Camp/ca_camp_20181113_0253_dd83.zip\n",
      "Found the URL: \n",
      " https://rmgsc.cr.usgs.gov//outgoing/GeoMAC/2018_fire_data/California/Camp/ca_camp_20181113_1750_dd83.zip\n",
      "Found the URL: \n",
      " https://rmgsc.cr.usgs.gov//outgoing/GeoMAC/2018_fire_data/California/Camp/ca_camp_20181114_0258_dd83.zip\n",
      "Found the URL: \n",
      " https://rmgsc.cr.usgs.gov//outgoing/GeoMAC/2018_fire_data/California/Camp/ca_camp_20181114_2139_dd83.zip\n",
      "Found the URL: \n",
      " https://rmgsc.cr.usgs.gov//outgoing/GeoMAC/2018_fire_data/California/Camp/ca_camp_20181115_0313_dd83.zip\n",
      "Found the URL: \n",
      " https://rmgsc.cr.usgs.gov//outgoing/GeoMAC/2018_fire_data/California/Camp/ca_camp_20181115_1743_dd83.zip\n",
      "Found the URL: \n",
      " https://rmgsc.cr.usgs.gov//outgoing/GeoMAC/2018_fire_data/California/Camp/ca_camp_20181116_1251_dd83.zip\n",
      "Found the URL: \n",
      " https://rmgsc.cr.usgs.gov//outgoing/GeoMAC/2018_fire_data/California/Camp/ca_camp_20181116_2012_dd83.zip\n",
      "Found the URL: \n",
      " https://rmgsc.cr.usgs.gov//outgoing/GeoMAC/2018_fire_data/California/Camp/ca_camp_20181117_0137_dd83.zip\n",
      "Found the URL: \n",
      " https://rmgsc.cr.usgs.gov//outgoing/GeoMAC/2018_fire_data/California/Camp/ca_camp_20181117_1840_dd83.zip\n",
      "Found the URL: \n",
      " https://rmgsc.cr.usgs.gov//outgoing/GeoMAC/2018_fire_data/California/Camp/ca_camp_20181117_2353_dd83.zip\n",
      "Found the URL: \n",
      " https://rmgsc.cr.usgs.gov//outgoing/GeoMAC/2018_fire_data/California/Camp/ca_camp_20181118_1745_dd83.zip\n",
      "Found the URL: \n",
      " https://rmgsc.cr.usgs.gov//outgoing/GeoMAC/2018_fire_data/California/Camp/ca_camp_20181118_2220_dd83.zip\n",
      "Found the URL: \n",
      " https://rmgsc.cr.usgs.gov//outgoing/GeoMAC/2018_fire_data/California/Camp/ca_camp_20181119_1844_dd83.zip\n",
      "Found the URL: \n",
      " https://rmgsc.cr.usgs.gov//outgoing/GeoMAC/2018_fire_data/California/Camp/ca_camp_20181119_2248_dd83.zip\n",
      "Found the URL: \n",
      " https://rmgsc.cr.usgs.gov//outgoing/GeoMAC/2018_fire_data/California/Camp/ca_camp_20181120_1808_dd83.zip\n",
      "Found the URL: \n",
      " https://rmgsc.cr.usgs.gov//outgoing/GeoMAC/2018_fire_data/California/Camp/ca_camp_20181120_2005_dd83.zip\n",
      "Found the URL: \n",
      " https://rmgsc.cr.usgs.gov//outgoing/GeoMAC/2018_fire_data/California/Camp/ca_camp_20181121_2105_dd83.zip\n",
      "Found the URL: \n",
      " https://rmgsc.cr.usgs.gov//outgoing/GeoMAC/2018_fire_data/California/Camp/ca_camp_20181125_1822_dd83.zip\n",
      "Found 28 fire perimeters\n"
     ]
    }
   ],
   "source": [
    "camp_urls = get_fire_perim_urls(fire_year, fire_state, fire_name)"
   ]
  },
  {
   "cell_type": "markdown",
   "metadata": {},
   "source": [
    "Load fire perimeters into separate tables with unique names per time step, for later cleanup"
   ]
  },
  {
   "cell_type": "code",
   "execution_count": 109,
   "metadata": {
    "ExecuteTime": {
     "end_time": "2019-03-03T23:51:05.969086Z",
     "start_time": "2019-03-03T23:51:05.963940Z"
    },
    "scrolled": false
   },
   "outputs": [],
   "source": [
    "def load_fire_perims(urls, overwrite=False):\n",
    "    count = 0\n",
    "    for url in urls:\n",
    "        source_filename = url.split('/')[-1]\n",
    "        state, fire_name, fire_date_yyyymmdd, fire_time_hhmm, fire_crs = source_filename.split('_')\n",
    "        table_name = f'fire_{state}_{fire_name}_{fire_date_yyyymmdd}_{fire_time_hhmm}'\n",
    "        print(f'Loading url {count} of {len(urls)} to OmniSci table: {table_name}')\n",
    "        if not table_name in con.get_tables() or overwrite:\n",
    "            mapdql(f\"DROP TABLE {table_name}\")\n",
    "            q = f\"COPY {table_name} FROM '{url}' WITH (GEO='True');\"\n",
    "            try:\n",
    "                result = mapdql(q)\n",
    "                print(f'Added date {fire_date_yyyymmdd} time {fire_time_hhmm}')\n",
    "            except:\n",
    "                print(f'Problem loading url {url}')\n",
    "        else:\n",
    "            print(f'Table {table_name} already exists, overwrite if needed')"
   ]
  },
  {
   "cell_type": "code",
   "execution_count": 110,
   "metadata": {
    "ExecuteTime": {
     "end_time": "2019-03-03T23:57:43.284068Z",
     "start_time": "2019-03-03T23:51:12.708170Z"
    }
   },
   "outputs": [
    {
     "name": "stdout",
     "output_type": "stream",
     "text": [
      "Loading url to OmniSci table: fire_ca_camp_20181108_1754\n",
      "Executing query: DROP TABLE fire_ca_camp_20181108_1754\n",
      "Executing query: COPY fire_ca_camp_20181108_1754 FROM 'https://rmgsc.cr.usgs.gov//outgoing/GeoMAC/2018_fire_data/California/Camp/ca_camp_20181108_1754_dd83.zip' WITH (GEO='True');\n",
      "Added date 20181108 time 1754\n",
      "Loading url to OmniSci table: fire_ca_camp_20181109_0000\n",
      "Executing query: DROP TABLE fire_ca_camp_20181109_0000\n",
      "Executing query: COPY fire_ca_camp_20181109_0000 FROM 'https://rmgsc.cr.usgs.gov//outgoing/GeoMAC/2018_fire_data/California/Camp/ca_camp_20181109_0000_dd83.zip' WITH (GEO='True');\n",
      "Added date 20181109 time 0000\n",
      "Loading url to OmniSci table: fire_ca_camp_20181109_1902\n",
      "Executing query: DROP TABLE fire_ca_camp_20181109_1902\n",
      "Executing query: COPY fire_ca_camp_20181109_1902 FROM 'https://rmgsc.cr.usgs.gov//outgoing/GeoMAC/2018_fire_data/California/Camp/ca_camp_20181109_1902_dd83.zip' WITH (GEO='True');\n",
      "Added date 20181109 time 1902\n",
      "Loading url to OmniSci table: fire_ca_camp_20181109_2313\n",
      "Executing query: DROP TABLE fire_ca_camp_20181109_2313\n",
      "Executing query: COPY fire_ca_camp_20181109_2313 FROM 'https://rmgsc.cr.usgs.gov//outgoing/GeoMAC/2018_fire_data/California/Camp/ca_camp_20181109_2313_dd83.zip' WITH (GEO='True');\n",
      "Added date 20181109 time 2313\n",
      "Loading url to OmniSci table: fire_ca_camp_20181110_0104\n",
      "Executing query: DROP TABLE fire_ca_camp_20181110_0104\n",
      "Executing query: COPY fire_ca_camp_20181110_0104 FROM 'https://rmgsc.cr.usgs.gov//outgoing/GeoMAC/2018_fire_data/California/Camp/ca_camp_20181110_0104_dd83.zip' WITH (GEO='True');\n",
      "Added date 20181110 time 0104\n",
      "Loading url to OmniSci table: fire_ca_camp_20181110_2110\n",
      "Executing query: DROP TABLE fire_ca_camp_20181110_2110\n",
      "Executing query: COPY fire_ca_camp_20181110_2110 FROM 'https://rmgsc.cr.usgs.gov//outgoing/GeoMAC/2018_fire_data/California/Camp/ca_camp_20181110_2110_dd83.zip' WITH (GEO='True');\n",
      "Added date 20181110 time 2110\n",
      "Loading url to OmniSci table: fire_ca_camp_20181111_1848\n",
      "Executing query: DROP TABLE fire_ca_camp_20181111_1848\n",
      "Executing query: COPY fire_ca_camp_20181111_1848 FROM 'https://rmgsc.cr.usgs.gov//outgoing/GeoMAC/2018_fire_data/California/Camp/ca_camp_20181111_1848_dd83.zip' WITH (GEO='True');\n",
      "Added date 20181111 time 1848\n",
      "Loading url to OmniSci table: fire_ca_camp_20181112_0031\n",
      "Executing query: DROP TABLE fire_ca_camp_20181112_0031\n",
      "Executing query: COPY fire_ca_camp_20181112_0031 FROM 'https://rmgsc.cr.usgs.gov//outgoing/GeoMAC/2018_fire_data/California/Camp/ca_camp_20181112_0031_dd83.zip' WITH (GEO='True');\n",
      "Added date 20181112 time 0031\n",
      "Loading url to OmniSci table: fire_ca_camp_20181112_2205\n",
      "Executing query: DROP TABLE fire_ca_camp_20181112_2205\n",
      "Executing query: COPY fire_ca_camp_20181112_2205 FROM 'https://rmgsc.cr.usgs.gov//outgoing/GeoMAC/2018_fire_data/California/Camp/ca_camp_20181112_2205_dd83.zip' WITH (GEO='True');\n",
      "Added date 20181112 time 2205\n",
      "Loading url to OmniSci table: fire_ca_camp_20181113_0253\n",
      "Executing query: DROP TABLE fire_ca_camp_20181113_0253\n",
      "Executing query: COPY fire_ca_camp_20181113_0253 FROM 'https://rmgsc.cr.usgs.gov//outgoing/GeoMAC/2018_fire_data/California/Camp/ca_camp_20181113_0253_dd83.zip' WITH (GEO='True');\n",
      "Added date 20181113 time 0253\n",
      "Loading url to OmniSci table: fire_ca_camp_20181113_1750\n",
      "Executing query: DROP TABLE fire_ca_camp_20181113_1750\n",
      "Executing query: COPY fire_ca_camp_20181113_1750 FROM 'https://rmgsc.cr.usgs.gov//outgoing/GeoMAC/2018_fire_data/California/Camp/ca_camp_20181113_1750_dd83.zip' WITH (GEO='True');\n",
      "Added date 20181113 time 1750\n",
      "Loading url to OmniSci table: fire_ca_camp_20181114_0258\n",
      "Executing query: DROP TABLE fire_ca_camp_20181114_0258\n",
      "Executing query: COPY fire_ca_camp_20181114_0258 FROM 'https://rmgsc.cr.usgs.gov//outgoing/GeoMAC/2018_fire_data/California/Camp/ca_camp_20181114_0258_dd83.zip' WITH (GEO='True');\n",
      "Added date 20181114 time 0258\n",
      "Loading url to OmniSci table: fire_ca_camp_20181114_2139\n",
      "Executing query: DROP TABLE fire_ca_camp_20181114_2139\n",
      "Executing query: COPY fire_ca_camp_20181114_2139 FROM 'https://rmgsc.cr.usgs.gov//outgoing/GeoMAC/2018_fire_data/California/Camp/ca_camp_20181114_2139_dd83.zip' WITH (GEO='True');\n",
      "Added date 20181114 time 2139\n",
      "Loading url to OmniSci table: fire_ca_camp_20181115_0313\n",
      "Executing query: DROP TABLE fire_ca_camp_20181115_0313\n",
      "Executing query: COPY fire_ca_camp_20181115_0313 FROM 'https://rmgsc.cr.usgs.gov//outgoing/GeoMAC/2018_fire_data/California/Camp/ca_camp_20181115_0313_dd83.zip' WITH (GEO='True');\n",
      "Added date 20181115 time 0313\n",
      "Loading url to OmniSci table: fire_ca_camp_20181115_1743\n",
      "Executing query: DROP TABLE fire_ca_camp_20181115_1743\n",
      "Executing query: COPY fire_ca_camp_20181115_1743 FROM 'https://rmgsc.cr.usgs.gov//outgoing/GeoMAC/2018_fire_data/California/Camp/ca_camp_20181115_1743_dd83.zip' WITH (GEO='True');\n",
      "Added date 20181115 time 1743\n",
      "Loading url to OmniSci table: fire_ca_camp_20181116_1251\n",
      "Executing query: DROP TABLE fire_ca_camp_20181116_1251\n",
      "Executing query: COPY fire_ca_camp_20181116_1251 FROM 'https://rmgsc.cr.usgs.gov//outgoing/GeoMAC/2018_fire_data/California/Camp/ca_camp_20181116_1251_dd83.zip' WITH (GEO='True');\n",
      "Added date 20181116 time 1251\n",
      "Loading url to OmniSci table: fire_ca_camp_20181116_2012\n",
      "Executing query: DROP TABLE fire_ca_camp_20181116_2012\n",
      "Executing query: COPY fire_ca_camp_20181116_2012 FROM 'https://rmgsc.cr.usgs.gov//outgoing/GeoMAC/2018_fire_data/California/Camp/ca_camp_20181116_2012_dd83.zip' WITH (GEO='True');\n",
      "Added date 20181116 time 2012\n",
      "Loading url to OmniSci table: fire_ca_camp_20181117_0137\n",
      "Executing query: DROP TABLE fire_ca_camp_20181117_0137\n",
      "Executing query: COPY fire_ca_camp_20181117_0137 FROM 'https://rmgsc.cr.usgs.gov//outgoing/GeoMAC/2018_fire_data/California/Camp/ca_camp_20181117_0137_dd83.zip' WITH (GEO='True');\n",
      "Added date 20181117 time 0137\n",
      "Loading url to OmniSci table: fire_ca_camp_20181117_1840\n",
      "Executing query: DROP TABLE fire_ca_camp_20181117_1840\n",
      "Executing query: COPY fire_ca_camp_20181117_1840 FROM 'https://rmgsc.cr.usgs.gov//outgoing/GeoMAC/2018_fire_data/California/Camp/ca_camp_20181117_1840_dd83.zip' WITH (GEO='True');\n",
      "Added date 20181117 time 1840\n",
      "Loading url to OmniSci table: fire_ca_camp_20181117_2353\n",
      "Executing query: DROP TABLE fire_ca_camp_20181117_2353\n",
      "Executing query: COPY fire_ca_camp_20181117_2353 FROM 'https://rmgsc.cr.usgs.gov//outgoing/GeoMAC/2018_fire_data/California/Camp/ca_camp_20181117_2353_dd83.zip' WITH (GEO='True');\n",
      "Added date 20181117 time 2353\n",
      "Loading url to OmniSci table: fire_ca_camp_20181118_1745\n",
      "Executing query: DROP TABLE fire_ca_camp_20181118_1745\n",
      "Executing query: COPY fire_ca_camp_20181118_1745 FROM 'https://rmgsc.cr.usgs.gov//outgoing/GeoMAC/2018_fire_data/California/Camp/ca_camp_20181118_1745_dd83.zip' WITH (GEO='True');\n",
      "Added date 20181118 time 1745\n",
      "Loading url to OmniSci table: fire_ca_camp_20181118_2220\n",
      "Executing query: DROP TABLE fire_ca_camp_20181118_2220\n",
      "Executing query: COPY fire_ca_camp_20181118_2220 FROM 'https://rmgsc.cr.usgs.gov//outgoing/GeoMAC/2018_fire_data/California/Camp/ca_camp_20181118_2220_dd83.zip' WITH (GEO='True');\n",
      "Added date 20181118 time 2220\n",
      "Loading url to OmniSci table: fire_ca_camp_20181119_1844\n",
      "Executing query: DROP TABLE fire_ca_camp_20181119_1844\n",
      "Executing query: COPY fire_ca_camp_20181119_1844 FROM 'https://rmgsc.cr.usgs.gov//outgoing/GeoMAC/2018_fire_data/California/Camp/ca_camp_20181119_1844_dd83.zip' WITH (GEO='True');\n",
      "Added date 20181119 time 1844\n",
      "Loading url to OmniSci table: fire_ca_camp_20181119_2248\n",
      "Executing query: DROP TABLE fire_ca_camp_20181119_2248\n",
      "Executing query: COPY fire_ca_camp_20181119_2248 FROM 'https://rmgsc.cr.usgs.gov//outgoing/GeoMAC/2018_fire_data/California/Camp/ca_camp_20181119_2248_dd83.zip' WITH (GEO='True');\n",
      "Added date 20181119 time 2248\n",
      "Loading url to OmniSci table: fire_ca_camp_20181120_1808\n",
      "Executing query: DROP TABLE fire_ca_camp_20181120_1808\n",
      "Executing query: COPY fire_ca_camp_20181120_1808 FROM 'https://rmgsc.cr.usgs.gov//outgoing/GeoMAC/2018_fire_data/California/Camp/ca_camp_20181120_1808_dd83.zip' WITH (GEO='True');\n",
      "Added date 20181120 time 1808\n",
      "Loading url to OmniSci table: fire_ca_camp_20181120_2005\n",
      "Executing query: DROP TABLE fire_ca_camp_20181120_2005\n",
      "Executing query: COPY fire_ca_camp_20181120_2005 FROM 'https://rmgsc.cr.usgs.gov//outgoing/GeoMAC/2018_fire_data/California/Camp/ca_camp_20181120_2005_dd83.zip' WITH (GEO='True');\n"
     ]
    },
    {
     "name": "stdout",
     "output_type": "stream",
     "text": [
      "Added date 20181120 time 2005\n",
      "Loading url to OmniSci table: fire_ca_camp_20181121_2105\n",
      "Executing query: DROP TABLE fire_ca_camp_20181121_2105\n",
      "Executing query: COPY fire_ca_camp_20181121_2105 FROM 'https://rmgsc.cr.usgs.gov//outgoing/GeoMAC/2018_fire_data/California/Camp/ca_camp_20181121_2105_dd83.zip' WITH (GEO='True');\n",
      "Added date 20181121 time 2105\n",
      "Loading url to OmniSci table: fire_ca_camp_20181125_1822\n",
      "Executing query: DROP TABLE fire_ca_camp_20181125_1822\n",
      "Executing query: COPY fire_ca_camp_20181125_1822 FROM 'https://rmgsc.cr.usgs.gov//outgoing/GeoMAC/2018_fire_data/California/Camp/ca_camp_20181125_1822_dd83.zip' WITH (GEO='True');\n",
      "Added date 20181125 time 1822\n"
     ]
    }
   ],
   "source": [
    "load_fire_perims(camp_urls)"
   ]
  },
  {
   "cell_type": "code",
   "execution_count": null,
   "metadata": {
    "ExecuteTime": {
     "end_time": "2019-03-01T18:49:21.105897Z",
     "start_time": "2019-03-01T18:49:21.090419Z"
    },
    "scrolled": true
   },
   "outputs": [],
   "source": [
    "omnitables_df[omnitables_df['name'].str.contains(fire_name)]"
   ]
  },
  {
   "cell_type": "markdown",
   "metadata": {},
   "source": [
    "#### Camp Fire Specific Perimeters with Time Stamps"
   ]
  },
  {
   "cell_type": "markdown",
   "metadata": {},
   "source": [
    "Schemas vary by addition of OBJECTID, SHAPE_Area fields which I think can probably be safely dropped (since auto-added by ESRI along the way)."
   ]
  },
  {
   "cell_type": "markdown",
   "metadata": {},
   "source": [
    "But cannot import into one table until schema are identical.  So make a first pass, putting into separate tables.  Then we can ALTER those tables and concatentate them"
   ]
  },
  {
   "cell_type": "code",
   "execution_count": null,
   "metadata": {
    "ExecuteTime": {
     "end_time": "2019-03-01T18:59:56.206704Z",
     "start_time": "2019-03-01T18:58:51.894453Z"
    }
   },
   "outputs": [],
   "source": [
    "process_perimeters('fire_woolsey_perimeters','woolsey')"
   ]
  },
  {
   "cell_type": "code",
   "execution_count": null,
   "metadata": {
    "ExecuteTime": {
     "end_time": "2019-03-01T19:00:02.223233Z",
     "start_time": "2019-03-01T19:00:02.215259Z"
    }
   },
   "outputs": [],
   "source": [
    "# refresh tables df\n",
    "omnitables_df = pd.DataFrame(con.get_tables(), columns={'name'}).sort_values('name')"
   ]
  },
  {
   "cell_type": "code",
   "execution_count": null,
   "metadata": {
    "ExecuteTime": {
     "end_time": "2019-03-01T19:05:54.121123Z",
     "start_time": "2019-03-01T19:05:54.117497Z"
    }
   },
   "outputs": [],
   "source": [
    "def list_fire_perims(fire):\n",
    "    l = []\n",
    "    for index, row in omnitables_df.iterrows():\n",
    "        if fire in row['name'].lower():\n",
    "            print(row['name'])\n",
    "            l.append(row['name'])\n",
    "    return(l)"
   ]
  },
  {
   "cell_type": "code",
   "execution_count": null,
   "metadata": {
    "ExecuteTime": {
     "end_time": "2019-03-01T19:06:05.772410Z",
     "start_time": "2019-03-01T19:06:05.707212Z"
    },
    "scrolled": true
   },
   "outputs": [],
   "source": [
    "list_fire_perims('woolsey_perimeter_')"
   ]
  },
  {
   "cell_type": "markdown",
   "metadata": {},
   "source": [
    "argh, this doesn't work because Omni doesn't support dropping columns.  I guess must CTAS with the 'good' columns instead into new version tables - what a pain!"
   ]
  },
  {
   "cell_type": "markdown",
   "metadata": {},
   "source": [
    "### Copy good ones..."
   ]
  },
  {
   "cell_type": "code",
   "execution_count": 111,
   "metadata": {
    "ExecuteTime": {
     "end_time": "2019-03-04T00:14:14.782654Z",
     "start_time": "2019-03-04T00:14:14.778294Z"
    }
   },
   "outputs": [],
   "source": [
    "def good_col_names():\n",
    "    cols_tuples = con.get_table_details('fire_ca_camp_20181110_0104')\n",
    "    cols_df = pd.DataFrame(cols_tuples)\n",
    "    all_col_names = cols_df['name'].unique()\n",
    "    good_col_names = []\n",
    "    for name in all_col_names:\n",
    "        if name != 'OBJECTID' and name != 'SHAPE_Area':\n",
    "            good_col_names.append(name)\n",
    "    return(good_col_names)"
   ]
  },
  {
   "cell_type": "code",
   "execution_count": 112,
   "metadata": {
    "ExecuteTime": {
     "end_time": "2019-03-04T00:14:26.560271Z",
     "start_time": "2019-03-04T00:14:26.549762Z"
    }
   },
   "outputs": [
    {
     "data": {
      "text/plain": [
       "['irwinid',\n",
       " 'mapmethod',\n",
       " 'unitIDProt',\n",
       " 'unitIDOwn',\n",
       " 'incidentID',\n",
       " 'fireName',\n",
       " 'perDatTime',\n",
       " 'comments',\n",
       " 'agency',\n",
       " 'active',\n",
       " 'latest',\n",
       " 'compParID',\n",
       " 'fireYear',\n",
       " 'dateCrnt',\n",
       " 'inciwebId',\n",
       " 'firecode',\n",
       " 'mergeid',\n",
       " 'compfirecd',\n",
       " 'fireNum',\n",
       " 'ComplexNm',\n",
       " 'state',\n",
       " 'inComplex',\n",
       " 'GISACRES',\n",
       " 'omnisci_geo']"
      ]
     },
     "execution_count": 112,
     "metadata": {},
     "output_type": "execute_result"
    }
   ],
   "source": [
    "good_col_names()"
   ]
  },
  {
   "cell_type": "code",
   "execution_count": null,
   "metadata": {
    "ExecuteTime": {
     "end_time": "2019-03-01T19:02:16.955015Z",
     "start_time": "2019-03-01T19:02:16.950442Z"
    }
   },
   "outputs": [],
   "source": [
    "def standard_ddl(col_names):\n",
    "    cols_tuples = con.get_table_details('fire_ca_camp_20181110_0104')\n",
    "    cols_df = pd.DataFrame(cols_tuples)\n",
    "    ddl = '('\n",
    "    for index, row in cols_df.iterrows():\n",
    "        name = row['name']\n",
    "        if name in col_names:\n",
    "            ddl += '{} {}, '.format(name, row['type'])\n",
    "    ddl = ddl[:-2]\n",
    "    ddl += ')'\n",
    "    return(ddl)"
   ]
  },
  {
   "cell_type": "code",
   "execution_count": null,
   "metadata": {
    "ExecuteTime": {
     "end_time": "2019-03-01T19:02:17.919724Z",
     "start_time": "2019-03-01T19:02:17.908548Z"
    }
   },
   "outputs": [],
   "source": [
    "standard_ddl(good_col_names())"
   ]
  },
  {
   "cell_type": "markdown",
   "metadata": {},
   "source": [
    "Get rid of Field Names accidentally added by ArcGIS.  Could in other cases into SHSPE_Perimeter"
   ]
  },
  {
   "cell_type": "code",
   "execution_count": null,
   "metadata": {
    "ExecuteTime": {
     "end_time": "2019-03-01T19:02:21.541032Z",
     "start_time": "2019-03-01T19:02:21.533550Z"
    }
   },
   "outputs": [],
   "source": [
    "good_col_names()"
   ]
  },
  {
   "cell_type": "code",
   "execution_count": null,
   "metadata": {
    "ExecuteTime": {
     "end_time": "2019-03-01T19:04:43.093174Z",
     "start_time": "2019-03-01T19:04:43.088059Z"
    }
   },
   "outputs": [],
   "source": [
    "def onlythegoodstuff(table_name_selector):\n",
    "    fire_tables = omnitables_df[omnitables_df['name'].str.contains(table_name_selector)]\n",
    "    for index, row in fire_tables.iterrows():\n",
    "        orig_table = row['name']\n",
    "        print('Working on table {}'.format(orig_table))\n",
    "        good_table = orig_table + '_v2'\n",
    "        if not good_table in con.get_tables():\n",
    "            ss = 'SELECT '\n",
    "            for name in good_col_names():\n",
    "                ss += '{}, '.format(name)\n",
    "            ss = ss[:-2]\n",
    "            ss += ' FROM {}'.format(orig_table)\n",
    "            query = 'CREATE TABLE {} AS ({})'.format(good_table, ss)\n",
    "            try:\n",
    "                mapdql(query)\n",
    "            except:\n",
    "                print('Problem creating standardized version of table {}'.format(orig_table))\n",
    "        "
   ]
  },
  {
   "cell_type": "code",
   "execution_count": null,
   "metadata": {
    "ExecuteTime": {
     "end_time": "2019-03-01T19:03:38.299714Z",
     "start_time": "2019-03-01T19:03:38.219579Z"
    }
   },
   "outputs": [],
   "source": [
    "mapdql('drop table fire_perim_woolsey')"
   ]
  },
  {
   "cell_type": "code",
   "execution_count": null,
   "metadata": {
    "ExecuteTime": {
     "end_time": "2019-03-01T19:08:27.374415Z",
     "start_time": "2019-03-01T19:08:05.907651Z"
    },
    "scrolled": true
   },
   "outputs": [],
   "source": [
    "onlythegoodstuff('woolsey_perimeter_')"
   ]
  },
  {
   "cell_type": "code",
   "execution_count": null,
   "metadata": {
    "ExecuteTime": {
     "end_time": "2019-03-01T19:14:58.616144Z",
     "start_time": "2019-03-01T19:14:58.610360Z"
    }
   },
   "outputs": [],
   "source": [
    "def append_perims(firename):\n",
    "    # refresh tables df\n",
    "    omnitables_df = pd.DataFrame(con.get_tables(), columns={'name'}).sort_values('name')\n",
    "    df_list = []\n",
    "\n",
    "    for index, row in omnitables_df.iterrows():\n",
    "        name = row['name'].lower()\n",
    "        if f'fire_{firename}_perimeter_' in name and '_v2' in name:\n",
    "            print(name)\n",
    "            try:\n",
    "                result = mapdql('SELECT * FROM {}'.format(name))\n",
    "                df_list.append(pd.DataFrame(result.fetchall()))\n",
    "            except:\n",
    "                print('failed to select')\n",
    "\n",
    "    if len(df_list) > 0:\n",
    "        df2 = pd.concat(df_list)\n",
    "    else:\n",
    "        print('Data frame list empty')\n",
    "    df2.columns = good_col_names()\n",
    "    droplist = {'irwinid','unitIDProt','unitIDOwn','incidentID','fireName','agency','mergeid','compfirecd','fireNum','ComplexNm','inComplex','state','dateCrnt','compParID','inciwebId', 'firecode', 'fireYear'}\n",
    "    final_cols = list(set(good_col_names()) - set(droplist))\n",
    "    df2.drop(droplist,inplace=True, axis=1)\n",
    "    return(df2)"
   ]
  },
  {
   "cell_type": "code",
   "execution_count": null,
   "metadata": {
    "ExecuteTime": {
     "end_time": "2019-03-01T19:15:16.752194Z",
     "start_time": "2019-03-01T19:15:16.397990Z"
    }
   },
   "outputs": [],
   "source": [
    "df2 = append_perims('woolsey')"
   ]
  },
  {
   "cell_type": "code",
   "execution_count": null,
   "metadata": {
    "ExecuteTime": {
     "end_time": "2019-03-01T19:19:09.228772Z",
     "start_time": "2019-03-01T19:19:09.215265Z"
    }
   },
   "outputs": [],
   "source": [
    "df2.head()"
   ]
  },
  {
   "cell_type": "code",
   "execution_count": null,
   "metadata": {
    "ExecuteTime": {
     "end_time": "2019-03-01T19:19:15.891985Z",
     "start_time": "2019-03-01T19:19:15.889562Z"
    }
   },
   "outputs": [],
   "source": [
    "# perDatTime imported as a string, but is actually a date/time"
   ]
  },
  {
   "cell_type": "markdown",
   "metadata": {},
   "source": [
    "Make a mega dataframe then fix perDatTime in the df and save back?"
   ]
  },
  {
   "cell_type": "code",
   "execution_count": null,
   "metadata": {
    "ExecuteTime": {
     "end_time": "2019-03-01T19:19:17.897373Z",
     "start_time": "2019-03-01T19:19:17.888815Z"
    }
   },
   "outputs": [],
   "source": [
    "ddl = standard_ddl(final_cols)\n",
    "ddl"
   ]
  },
  {
   "cell_type": "code",
   "execution_count": null,
   "metadata": {
    "ExecuteTime": {
     "end_time": "2019-03-01T19:19:21.965164Z",
     "start_time": "2019-03-01T19:19:21.955736Z"
    }
   },
   "outputs": [],
   "source": [
    "# over-ride perDatTime STR\n",
    "# (YYYY-MM-DD HH:MM:SS)\n",
    "# ? will this handle ours with am/pm and not military 24 hour clock?\n",
    "ddl = ddl.replace('perDatTime STR','perDatTime TIMESTAMP')\n",
    "ddl = ddl.replace('STR','TEXT')\n",
    "ddl"
   ]
  },
  {
   "cell_type": "code",
   "execution_count": null,
   "metadata": {
    "ExecuteTime": {
     "end_time": "2019-03-01T19:21:57.871779Z",
     "start_time": "2019-03-01T19:21:57.867999Z"
    }
   },
   "outputs": [],
   "source": [
    "def create_final_table(df2, firename):\n",
    "    table_name = f'fire_{firename}_perimeters'\n",
    "    query = \"CREATE TABLE {} {};\".format(table_name, ddl)\n",
    "    mapdql(query)\n",
    "    con.load_table_rowwise(table_name, df2.itertuples(index=False, name=None))"
   ]
  },
  {
   "cell_type": "code",
   "execution_count": null,
   "metadata": {
    "ExecuteTime": {
     "end_time": "2019-03-01T19:22:13.689884Z",
     "start_time": "2019-03-01T19:22:13.170204Z"
    }
   },
   "outputs": [],
   "source": [
    "create_final_table(df2, 'woolsey')"
   ]
  },
  {
   "cell_type": "code",
   "execution_count": null,
   "metadata": {
    "ExecuteTime": {
     "end_time": "2019-03-01T19:44:02.166778Z",
     "start_time": "2019-03-01T19:44:02.158805Z"
    }
   },
   "outputs": [],
   "source": [
    "cwd = os.cwd()"
   ]
  },
  {
   "cell_type": "code",
   "execution_count": null,
   "metadata": {
    "ExecuteTime": {
     "end_time": "2019-03-01T19:44:39.833253Z",
     "start_time": "2019-03-01T19:44:39.717249Z"
    }
   },
   "outputs": [],
   "source": [
    "!pwd"
   ]
  },
  {
   "cell_type": "code",
   "execution_count": null,
   "metadata": {
    "ExecuteTime": {
     "end_time": "2019-03-01T19:44:56.136392Z",
     "start_time": "2019-03-01T19:44:56.017818Z"
    }
   },
   "outputs": [],
   "source": [
    "query = \"COPY (SELECT * FROM fire_woolsey_perimeters) to '/home/mapdadmin/demo/fire/fire_woolsey_perimeters.csv'\"\n",
    "mapdql(query)"
   ]
  },
  {
   "cell_type": "code",
   "execution_count": null,
   "metadata": {
    "ExecuteTime": {
     "end_time": "2019-03-01T19:44:59.565051Z",
     "start_time": "2019-03-01T19:44:59.373127Z"
    }
   },
   "outputs": [],
   "source": [
    "!head fire_woolsey_perimeters.csv"
   ]
  },
  {
   "cell_type": "code",
   "execution_count": null,
   "metadata": {},
   "outputs": [],
   "source": []
  }
 ],
 "metadata": {
  "kernelspec": {
   "display_name": "Python 3",
   "language": "python",
   "name": "python3"
  },
  "language_info": {
   "codemirror_mode": {
    "name": "ipython",
    "version": 3
   },
   "file_extension": ".py",
   "mimetype": "text/x-python",
   "name": "python",
   "nbconvert_exporter": "python",
   "pygments_lexer": "ipython3",
   "version": "3.6.7"
  },
  "varInspector": {
   "cols": {
    "lenName": 16,
    "lenType": 16,
    "lenVar": 40
   },
   "kernels_config": {
    "python": {
     "delete_cmd_postfix": "",
     "delete_cmd_prefix": "del ",
     "library": "var_list.py",
     "varRefreshCmd": "print(var_dic_list())"
    },
    "r": {
     "delete_cmd_postfix": ") ",
     "delete_cmd_prefix": "rm(",
     "library": "var_list.r",
     "varRefreshCmd": "cat(var_dic_list()) "
    }
   },
   "types_to_exclude": [
    "module",
    "function",
    "builtin_function_or_method",
    "instance",
    "_Feature"
   ],
   "window_display": false
  }
 },
 "nbformat": 4,
 "nbformat_minor": 2
}
