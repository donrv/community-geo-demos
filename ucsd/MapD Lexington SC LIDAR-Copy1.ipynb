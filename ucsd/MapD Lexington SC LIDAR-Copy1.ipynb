{
 "cells": [
  {
   "cell_type": "markdown",
   "metadata": {
    "button": false,
    "deletable": true,
    "new_sheet": false,
    "run_control": {
     "read_only": false
    }
   },
   "source": [
    "## MapD Lexington SC LIDAR Example"
   ]
  },
  {
   "cell_type": "markdown",
   "metadata": {
    "button": false,
    "deletable": true,
    "new_sheet": false,
    "run_control": {
     "read_only": false
    }
   },
   "source": [
    "LIDAR is an active sensing technology which generates a 3D point cloud.  It can be gathered either on the ground, or from the air or space.\n",
    "\n",
    "This notebook demonstrates the basic steps in acquiring and processing raw LIDAR data for use in MapD visualizations and analyses."
   ]
  },
  {
   "cell_type": "code",
   "execution_count": 8,
   "metadata": {
    "button": false,
    "collapsed": false,
    "deletable": true,
    "new_sheet": false,
    "run_control": {
     "read_only": false
    }
   },
   "outputs": [
    {
     "name": "stdout",
     "output_type": "stream",
     "text": [
      "\u001b[34mLexington\u001b[m\u001b[m                            \u001b[30m\u001b[43mSamsung_T5 1\u001b[m\u001b[m\r\n",
      "\u001b[35mMacintosh HD\u001b[m\u001b[m                         \u001b[34mTime Machine Backups\u001b[m\u001b[m\r\n",
      "\u001b[34mPreboot\u001b[m\u001b[m                              \u001b[34mTimeMachineBackup\u001b[m\u001b[m\r\n",
      "\u001b[34mSamsung_T5\u001b[m\u001b[m                           \u001b[30m\u001b[43mcom.apple.TimeMachine.localsnapshots\u001b[m\u001b[m\r\n"
     ]
    }
   ],
   "source": [
    "!ls /Volumes"
   ]
  },
  {
   "cell_type": "code",
   "execution_count": 3,
   "metadata": {
    "button": false,
    "collapsed": false,
    "deletable": true,
    "new_sheet": false,
    "run_control": {
     "read_only": false
    }
   },
   "outputs": [
    {
     "name": "stdout",
     "output_type": "stream",
     "text": [
      "ls: /Volumes/Samsung_T5/Projects/Lexington/lidar: No such file or directory\r\n"
     ]
    }
   ],
   "source": [
    "!ls /Volumes/Samsung_T5/Projects/Lexington/lidar"
   ]
  },
  {
   "cell_type": "code",
   "execution_count": null,
   "metadata": {
    "button": false,
    "collapsed": true,
    "deletable": true,
    "new_sheet": false,
    "run_control": {
     "read_only": false
    }
   },
   "outputs": [],
   "source": [
    "lasground -v -i orig_laz\\SC_LexingtonCo_2010_000603.laz -city -fine -o temp1.las\n",
    "lasheight -i temp1.las -o temp2.las\n",
    "del temp1.las\n",
    "lasclassify -v -i temp2.las -o relheights\\SC_LexingtonCo_2010_000603.laz -odix _classified -olaz\n",
    "del temp2.las\n"
   ]
  }
 ],
 "metadata": {
  "kernelspec": {
   "display_name": "Python 2",
   "language": "python",
   "name": "python2"
  },
  "language_info": {
   "codemirror_mode": {
    "name": "ipython",
    "version": 2
   },
   "file_extension": ".py",
   "mimetype": "text/x-python",
   "name": "python",
   "nbconvert_exporter": "python",
   "pygments_lexer": "ipython2",
   "version": "2.7.14"
  }
 },
 "nbformat": 4,
 "nbformat_minor": 2
}
