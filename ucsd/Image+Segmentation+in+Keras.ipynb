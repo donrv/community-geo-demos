{
 "cells": [
  {
   "cell_type": "code",
   "execution_count": null,
   "metadata": {},
   "outputs": [],
   "source": [
    "THEANO_FLAGS=floatX=float32  \\\n",
    "python  train.py  \\\n",
    "--save_weights_path=weights/ex1  \\\n",
    "--train_images=\"data/dataset1/images_prepped_train/\" \\\n",
    "--train_annotations=\"data/dataset1/annotations_prepped_train/\"  \\\n",
    "--val_images=\"data/dataset1/images_prepped_test/\" \\\n",
    "--val_annotations=\"data/dataset1/annotations_prepped_test/\" \\\n",
    "--n_classes=10  \\\n",
    "--model_name=\"vgg_unet2\" \n"
   ]
  },
  {
   "cell_type": "code",
   "execution_count": 1,
   "metadata": {},
   "outputs": [
    {
     "name": "stdout",
     "output_type": "stream",
     "text": [
      "/Volumes/Samsung_T5/ml/DeepNetsForEO/notebooks\r\n"
     ]
    }
   ],
   "source": [
    "!pwd"
   ]
  },
  {
   "cell_type": "code",
   "execution_count": null,
   "metadata": {},
   "outputs": [],
   "source": [
    "THEANO_FLAGS=floatX=float32  python  predict.py \\\n",
    " --save_weights_path=weights/ex1 \\\n",
    " --epoch_number=0 \\\n",
    " --test_images=\"data/dataset1/images_prepped_test/\" \\\n",
    " --output_path=\"data/predictions/\" \\\n",
    " --n_classes=10 \\\n",
    " --input_height=320 \\\n",
    " --input_width=640 \\\n",
    " --model_name=\"vgg_segnet\" "
   ]
  }
 ],
 "metadata": {
  "kernelspec": {
   "display_name": "Python 2",
   "language": "python",
   "name": "python2"
  },
  "language_info": {
   "codemirror_mode": {
    "name": "ipython",
    "version": 2
   },
   "file_extension": ".py",
   "mimetype": "text/x-python",
   "name": "python",
   "nbconvert_exporter": "python",
   "pygments_lexer": "ipython2",
   "version": "2.7.13"
  }
 },
 "nbformat": 4,
 "nbformat_minor": 2
}
