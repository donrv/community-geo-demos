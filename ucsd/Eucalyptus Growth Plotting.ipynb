{
 "cells": [
  {
   "cell_type": "markdown",
   "metadata": {},
   "source": [
    "### Eucalyptus Growth Curves"
   ]
  },
  {
   "cell_type": "code",
   "execution_count": 1,
   "metadata": {},
   "outputs": [
    {
     "name": "stdout",
     "output_type": "stream",
     "text": [
      "ariafire_training_statistics_v8.csv fuels.csv\r\n",
      "euc_growth_curves.csv\r\n"
     ]
    }
   ],
   "source": [
    "!ls *.csv"
   ]
  },
  {
   "cell_type": "code",
   "execution_count": 2,
   "metadata": {},
   "outputs": [],
   "source": [
    "import pandas as pd\n",
    "import seaborn as sns\n",
    "sns.set(style=\"darkgrid\")"
   ]
  },
  {
   "cell_type": "code",
   "execution_count": 3,
   "metadata": {},
   "outputs": [],
   "source": [
    "euc_br = pd.read_csv('euc_growth_curves.csv')"
   ]
  },
  {
   "cell_type": "code",
   "execution_count": 4,
   "metadata": {},
   "outputs": [],
   "source": [
    "euc_br.drop('Unnamed: 6', inplace=True, axis=1)"
   ]
  },
  {
   "cell_type": "code",
   "execution_count": 25,
   "metadata": {
    "scrolled": true
   },
   "outputs": [
    {
     "data": {
      "text/html": [
       "<div>\n",
       "<style scoped>\n",
       "    .dataframe tbody tr th:only-of-type {\n",
       "        vertical-align: middle;\n",
       "    }\n",
       "\n",
       "    .dataframe tbody tr th {\n",
       "        vertical-align: top;\n",
       "    }\n",
       "\n",
       "    .dataframe thead th {\n",
       "        text-align: right;\n",
       "    }\n",
       "</style>\n",
       "<table border=\"1\" class=\"dataframe\">\n",
       "  <thead>\n",
       "    <tr style=\"text-align: right;\">\n",
       "      <th></th>\n",
       "      <th>Estado</th>\n",
       "      <th>Espécie/Híbrido</th>\n",
       "      <th>Idade (anos)</th>\n",
       "      <th>Volume comercial (m³/ha)</th>\n",
       "      <th>IMA (m³/ha/ano)</th>\n",
       "      <th>ICA (m³/ha/ano)</th>\n",
       "      <th>plot</th>\n",
       "    </tr>\n",
       "  </thead>\n",
       "  <tbody>\n",
       "    <tr>\n",
       "      <th>0</th>\n",
       "      <td>Paraná</td>\n",
       "      <td>E. saligna</td>\n",
       "      <td>1</td>\n",
       "      <td>2</td>\n",
       "      <td>2</td>\n",
       "      <td>2</td>\n",
       "      <td>Paraná E. saligna</td>\n",
       "    </tr>\n",
       "    <tr>\n",
       "      <th>1</th>\n",
       "      <td>Paraná</td>\n",
       "      <td>E. saligna</td>\n",
       "      <td>2</td>\n",
       "      <td>41</td>\n",
       "      <td>21</td>\n",
       "      <td>39</td>\n",
       "      <td>Paraná E. saligna</td>\n",
       "    </tr>\n",
       "    <tr>\n",
       "      <th>2</th>\n",
       "      <td>Paraná</td>\n",
       "      <td>E. saligna</td>\n",
       "      <td>3</td>\n",
       "      <td>115</td>\n",
       "      <td>38</td>\n",
       "      <td>74</td>\n",
       "      <td>Paraná E. saligna</td>\n",
       "    </tr>\n",
       "    <tr>\n",
       "      <th>3</th>\n",
       "      <td>Paraná</td>\n",
       "      <td>E. saligna</td>\n",
       "      <td>4</td>\n",
       "      <td>192</td>\n",
       "      <td>48</td>\n",
       "      <td>77</td>\n",
       "      <td>Paraná E. saligna</td>\n",
       "    </tr>\n",
       "    <tr>\n",
       "      <th>4</th>\n",
       "      <td>Paraná</td>\n",
       "      <td>E. saligna</td>\n",
       "      <td>5</td>\n",
       "      <td>261</td>\n",
       "      <td>52</td>\n",
       "      <td>69</td>\n",
       "      <td>Paraná E. saligna</td>\n",
       "    </tr>\n",
       "  </tbody>\n",
       "</table>\n",
       "</div>"
      ],
      "text/plain": [
       "   Estado Espécie/Híbrido  Idade (anos)  Volume comercial (m³/ha)  \\\n",
       "0  Paraná      E. saligna             1                         2   \n",
       "1  Paraná      E. saligna             2                        41   \n",
       "2  Paraná      E. saligna             3                       115   \n",
       "3  Paraná      E. saligna             4                       192   \n",
       "4  Paraná      E. saligna             5                       261   \n",
       "\n",
       "   IMA (m³/ha/ano)  ICA (m³/ha/ano)               plot  \n",
       "0                2                2  Paraná E. saligna  \n",
       "1               21               39  Paraná E. saligna  \n",
       "2               38               74  Paraná E. saligna  \n",
       "3               48               77  Paraná E. saligna  \n",
       "4               52               69  Paraná E. saligna  "
      ]
     },
     "execution_count": 25,
     "metadata": {},
     "output_type": "execute_result"
    }
   ],
   "source": [
    "euc_br.head()"
   ]
  },
  {
   "cell_type": "code",
   "execution_count": 15,
   "metadata": {},
   "outputs": [
    {
     "data": {
      "text/plain": [
       "array(['E. saligna', 'E. grandis x E.urophylla', 'E. dunnii',\n",
       "       'E. benthamii'], dtype=object)"
      ]
     },
     "execution_count": 15,
     "metadata": {},
     "output_type": "execute_result"
    }
   ],
   "source": [
    "euc_br['Espécie/Híbrido'].unique()"
   ]
  },
  {
   "cell_type": "code",
   "execution_count": 22,
   "metadata": {},
   "outputs": [
    {
     "data": {
      "text/plain": [
       "array(['Paran\\xc3\\xa1', 'S\\xc3\\xa3o Paulo', 'Santa Catarina'],\n",
       "      dtype=object)"
      ]
     },
     "execution_count": 22,
     "metadata": {},
     "output_type": "execute_result"
    }
   ],
   "source": [
    "euc_br['Estado'].unique()"
   ]
  },
  {
   "cell_type": "code",
   "execution_count": 6,
   "metadata": {},
   "outputs": [],
   "source": [
    "import plotly"
   ]
  },
  {
   "cell_type": "code",
   "execution_count": 26,
   "metadata": {},
   "outputs": [
    {
     "data": {
      "text/html": [
       "<iframe id=\"igraph\" scrolling=\"no\" style=\"border:none;\" seamless=\"seamless\" src=\"https://plot.ly/~mflaxman10/6.embed\" height=\"525px\" width=\"100%\"></iframe>"
      ],
      "text/plain": [
       "<plotly.tools.PlotlyDisplay object>"
      ]
     },
     "execution_count": 26,
     "metadata": {},
     "output_type": "execute_result"
    }
   ],
   "source": [
    "import plotly.plotly as py\n",
    "import plotly.graph_objs as go\n",
    "\n",
    "euc_br['plot'] = euc_br['Espécie/Híbrido'] + ' in ' + euc_br['Estado'] \n",
    "plot_names = euc_br['plot'].unique()\n",
    "traces = []\n",
    "for plot_name in plot_names:\n",
    "    sp_df = euc_br[euc_br['plot'] == plot_name]\n",
    "\n",
    "    # Create a trace\n",
    "    trace = go.Scatter(\n",
    "        x = sp_df['Idade (anos)'],\n",
    "        y = sp_df['Volume comercial (m³/ha)'],\n",
    "        showlegend=True,\n",
    "        name=plot_name,\n",
    "    )\n",
    "    traces.append(trace)\n",
    "    \n",
    "data = traces\n",
    "\n",
    "py.iplot(data, filename='euc_br_growth')"
   ]
  },
  {
   "cell_type": "code",
   "execution_count": null,
   "metadata": {},
   "outputs": [],
   "source": []
  }
 ],
 "metadata": {
  "kernelspec": {
   "display_name": "Python 3",
   "language": "python",
   "name": "python3"
  },
  "language_info": {
   "codemirror_mode": {
    "name": "ipython",
    "version": 2
   },
   "file_extension": ".py",
   "mimetype": "text/x-python",
   "name": "python",
   "nbconvert_exporter": "python",
   "pygments_lexer": "ipython2",
   "version": "2.7.15"
  }
 },
 "nbformat": 4,
 "nbformat_minor": 2
}
